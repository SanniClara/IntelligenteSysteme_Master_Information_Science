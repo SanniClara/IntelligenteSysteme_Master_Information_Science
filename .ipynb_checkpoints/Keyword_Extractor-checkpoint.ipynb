{
 "cells": [
  {
   "cell_type": "code",
   "execution_count": 6,
   "id": "fb80531e",
   "metadata": {},
   "outputs": [],
   "source": [
    "from ipywidgets import IntProgress\n",
    "import requests\n",
    "from keybert import KeyBERT\n",
    "from SPARQLWrapper import SPARQLWrapper, JSON\n",
    "from rdflib import Graph "
   ]
  },
  {
   "cell_type": "code",
   "execution_count": 7,
   "id": "2f5d7e10",
   "metadata": {},
   "outputs": [],
   "source": []
  },
  {
   "cell_type": "code",
   "execution_count": 2,
   "id": "aa57cf6b",
   "metadata": {},
   "outputs": [],
   "source": [
    "doc = [\n",
    "    \"\"\"\n",
    "       An interplay between Ca2+/calmodulin-dependent protein kinase IIδc (CaMKIIδc) and late\n",
    "       Na+ current (INaL) is known to induce arrhythmias in the failing heart. Here, we elucidate \n",
    "       the role of the sodium channel isoform NaV1.8 for CaMKIIδc-dependent proarrhythmia. \n",
    "       In a CRISPR-Cas9-generated human iPSC-cardiomyocyte homozygous knock-out of NaV1.8, \n",
    "       we demonstrate that NaV1.8 contributes to INaL formation. In addition, we reveal a direct \n",
    "       interaction between NaV1.8 and CaMKIIδc in cardiomyocytes isolated from patients with heart \n",
    "       failure (HF). Using specific blockers of NaV1.8 and CaMKIIδc, we show that NaV1.8-driven INaL\n",
    "       is CaMKIIδc-dependent and that NaV1.8-inhibtion reduces diastolic SR-Ca2+ leak in human failing\n",
    "       cardiomyocytes. Moreover, increased mortality of CaMKIIδc-overexpressing HF mice is reduced when \n",
    "       a NaV1.8 knock-out is introduced. Cellular and in vivo experiments reveal reduced ventricular\n",
    "       arrhythmias without changes in HF progression. Our work therefore identifies a proarrhythmic\n",
    "       CaMKIIδc downstream target which may constitute a prognostic and antiarrhythmic strategy.\n",
    "      \"\"\" , \n",
    "        \"\"\"\n",
    "         Patients with heart failure and preserved ejection fraction (HFpEF) have a high burden of symptoms and functional\n",
    "         limitations, and have a poor quality of life. By targeting cardiometabolic abmormalities, sodium glucose cotransporter\n",
    "         2 (SGLT2) inhibitors may improve these impairments. In this multicenter, randomized trial of patients with HFpEF (NCT03030235),\n",
    "         we evaluated whether the SGLT2 inhibitor dapagliflozin improves the primary endpoint of Kansas City Cardiomyopathy Questionnaire\n",
    "         Clinical Summary Score (KCCQ-CS), a measure of heart failure-related health status, at 12 weeks after treatment initiation. Secondary\n",
    "         endpoints included the 6-minute walk test (6MWT), KCCQ Overall Summary Score (KCCQ-OS), clinically meaningful changes in KCCQ-CS and -OS,\n",
    "         and changes in weight, natriuretic peptides, glycated hemoglobin and systolic blood pressure. In total, 324 patients were randomized to\n",
    "         dapagliflozin or placebo. Dapagliflozin improved KCCQ-CS (effect size, 5.8 points (95% confidence interval (CI) 2.3–9.2, P = 0.001),\n",
    "         meeting the predefined primary endpoint, due to improvements in both KCCQ total symptom score (KCCQ-TS) (5.8 points (95% CI 2.0–9.6, P = 0.003))\n",
    "         and physical limitations scores (5.3 points (95% CI 0.7–10.0, P = 0.026)). Dapagliflozin also improved 6MWT (mean effect size of 20.1 m (95% CI 5.6–34.7, P = 0.007)),\n",
    "         KCCQ-OS (4.5 points (95% CI 1.1–7.8, P = 0.009)), proportion of participants with 5-point or greater improvements in KCCQ-OS (odds ratio (OR)\n",
    "         = 1.73 (95% CI 1.05–2.85, P = 0.03)) and reduced weight (mean effect size, 0.72 kg (95% CI 0.01–1.42, P = 0.046)). There were no significant\n",
    "         differences in other secondary endpoints. Adverse events were similar between dapagliflozin and placebo (44 (27.2%) versus 38 (23.5%) patients,\n",
    "         respectively). These results indicate that 12 weeks of dapagliflozin treatment significantly improved \n",
    "         patient-reported symptoms, physical limitations and exercise function and was well tolerated in chronic HFpEF.\n",
    "        \"\"\" \n",
    "      ]\n",
    "kw_model = KeyBERT()\n",
    "keywords = []\n",
    "manyKeywords = []\n",
    "\n",
    "for i in doc:\n",
    "  keywords.append(kw_model.extract_keywords(i))\n",
    "  #print(i)\n",
    "  manyKeywords.append(kw_model.extract_keywords(i, keyphrase_ngram_range=(1, 1), stop_words=None))"
   ]
  },
  {
   "cell_type": "code",
   "execution_count": 3,
   "id": "a6cc2ce1",
   "metadata": {},
   "outputs": [
    {
     "name": "stdout",
     "output_type": "stream",
     "text": [
      "[[('epidemic', 0.4141), ('sars', 0.3531), ('dispersal', 0.3067), ('infections', 0.2875), ('metapopulation', 0.287)], [('biodiversity', 0.4074), ('covid', 0.3857), ('greenness', 0.3667), ('nature', 0.3611), ('populations', 0.3542)]]\n"
     ]
    }
   ],
   "source": [
    "print(manyKeywords)"
   ]
  },
  {
   "cell_type": "code",
   "execution_count": 4,
   "id": "0da87d1c",
   "metadata": {},
   "outputs": [
    {
     "name": "stdout",
     "output_type": "stream",
     "text": [
      "['epidemic', 'sars', 'dispersal', 'infections', 'metapopulation', 'biodiversity', 'covid', 'greenness', 'nature', 'populations']\n"
     ]
    }
   ],
   "source": [
    "keyWordArrayStorage = []\n",
    "\n",
    "for x in manyKeywords:\n",
    "    for y in x:\n",
    "      output , certain = y\n",
    "      keyWordArrayStorage.append(output)\n",
    "\n",
    "print(keyWordArrayStorage)"
   ]
  },
  {
   "cell_type": "code",
   "execution_count": null,
   "id": "3e8c9902",
   "metadata": {},
   "outputs": [],
   "source": [
    "g = Graph()"
   ]
  },
  {
   "cell_type": "code",
   "execution_count": 8,
   "id": "9dd40442",
   "metadata": {
    "scrolled": true
   },
   "outputs": [
    {
     "name": "stdout",
     "output_type": "stream",
     "text": [
      "epidemic: \n",
      "rapid spread of infectious disease to a large number of people in a given population within a short period of time\n",
      "http://www.wikidata.org/entity/Q44512\n",
      " \n",
      "sars: \n",
      "viral respiratory disease\n",
      "http://www.wikidata.org/entity/Q103177\n",
      " \n",
      "dispersal: \n",
      "journal article; published in African Zoology in 2003\n",
      "http://www.wikidata.org/entity/Q57999854\n",
      " \n",
      "infections: \n",
      "invasion of and multiplication in a host by disease-causing pathogens or organisms, and the reaction of host tissues\n",
      "http://www.wikidata.org/entity/Q166231\n",
      " \n",
      "metapopulation: \n",
      "group of separated yet interacting ecological populations\n",
      "http://www.wikidata.org/entity/Q954495\n",
      " \n",
      "biodiversity: \n",
      "degree of variation of life forms\n",
      "http://www.wikidata.org/entity/Q47041\n",
      " \n",
      "covid: \n",
      "respiratory syndrome and infectious disease in humans, caused by SARS coronavirus 2\n",
      "http://www.wikidata.org/entity/Q84263196\n",
      " \n",
      "greenness: \n",
      "article\n",
      "http://www.wikidata.org/entity/Q57012978\n",
      " \n",
      "nature: \n",
      "scientific journal\n",
      "http://www.wikidata.org/entity/Q180445\n",
      " \n",
      "populations: \n"
     ]
    },
    {
     "ename": "KeyError",
     "evalue": "'description'",
     "output_type": "error",
     "traceback": [
      "\u001b[0;31m---------------------------------------------------------------------------\u001b[0m",
      "\u001b[0;31mKeyError\u001b[0m                                  Traceback (most recent call last)",
      "\u001b[0;32m/tmp/ipykernel_224637/3508087796.py\u001b[0m in \u001b[0;36m<module>\u001b[0;34m\u001b[0m\n\u001b[1;32m     10\u001b[0m     \u001b[0mr\u001b[0m \u001b[0;34m=\u001b[0m \u001b[0mrequests\u001b[0m\u001b[0;34m.\u001b[0m\u001b[0mget\u001b[0m\u001b[0;34m(\u001b[0m\u001b[0mAPI_ENDPOINT\u001b[0m\u001b[0;34m,\u001b[0m \u001b[0mparams\u001b[0m \u001b[0;34m=\u001b[0m \u001b[0mparams\u001b[0m\u001b[0;34m)\u001b[0m\u001b[0;34m\u001b[0m\u001b[0;34m\u001b[0m\u001b[0m\n\u001b[1;32m     11\u001b[0m     \u001b[0mprint\u001b[0m\u001b[0;34m(\u001b[0m\u001b[0mnew\u001b[0m \u001b[0;34m+\u001b[0m \u001b[0;34m': '\u001b[0m \u001b[0;34m)\u001b[0m\u001b[0;34m\u001b[0m\u001b[0;34m\u001b[0m\u001b[0m\n\u001b[0;32m---> 12\u001b[0;31m     \u001b[0mprint\u001b[0m\u001b[0;34m(\u001b[0m \u001b[0mr\u001b[0m\u001b[0;34m.\u001b[0m\u001b[0mjson\u001b[0m\u001b[0;34m(\u001b[0m\u001b[0;34m)\u001b[0m\u001b[0;34m[\u001b[0m\u001b[0;34m'search'\u001b[0m\u001b[0;34m]\u001b[0m\u001b[0;34m[\u001b[0m\u001b[0;36m0\u001b[0m\u001b[0;34m]\u001b[0m\u001b[0;34m[\u001b[0m\u001b[0;34m'description'\u001b[0m\u001b[0;34m]\u001b[0m\u001b[0;34m)\u001b[0m\u001b[0;34m\u001b[0m\u001b[0;34m\u001b[0m\u001b[0m\n\u001b[0m\u001b[1;32m     13\u001b[0m     \u001b[0mprint\u001b[0m\u001b[0;34m(\u001b[0m \u001b[0mr\u001b[0m\u001b[0;34m.\u001b[0m\u001b[0mjson\u001b[0m\u001b[0;34m(\u001b[0m\u001b[0;34m)\u001b[0m\u001b[0;34m[\u001b[0m\u001b[0;34m'search'\u001b[0m\u001b[0;34m]\u001b[0m\u001b[0;34m[\u001b[0m\u001b[0;36m0\u001b[0m\u001b[0;34m]\u001b[0m\u001b[0;34m[\u001b[0m\u001b[0;34m'concepturi'\u001b[0m\u001b[0;34m]\u001b[0m\u001b[0;34m)\u001b[0m\u001b[0;34m\u001b[0m\u001b[0;34m\u001b[0m\u001b[0m\n\u001b[1;32m     14\u001b[0m     \u001b[0mprint\u001b[0m\u001b[0;34m(\u001b[0m\u001b[0;34m' '\u001b[0m\u001b[0;34m)\u001b[0m\u001b[0;34m\u001b[0m\u001b[0;34m\u001b[0m\u001b[0m\n",
      "\u001b[0;31mKeyError\u001b[0m: 'description'"
     ]
    }
   ],
   "source": [
    "for new in keyWordArrayStorage:\n",
    "    API_ENDPOINT = \"https://www.wikidata.org/w/api.php\"\n",
    "    query = new\n",
    "    params = {\n",
    "        'action': 'wbsearchentities',\n",
    "        'format': 'json',\n",
    "        'language': 'en',\n",
    "        'search': query\n",
    "    }\n",
    "    r = requests.get(API_ENDPOINT, params = params)\n",
    "    print(new + ': ' )\n",
    "    print( r.json()['search'][0]['description'])\n",
    "    print( r.json()['search'][0]['concepturi']) \n",
    "    print(' ')"
   ]
  },
  {
   "cell_type": "code",
   "execution_count": 35,
   "id": "28227021",
   "metadata": {
    "scrolled": true
   },
   "outputs": [
    {
     "name": "stdout",
     "output_type": "stream",
     "text": [
      "Asturias\n",
      "أشتورية\n",
      "Astúries\n",
      "Asturie\n",
      "Αστούριες\n",
      "Asturien\n",
      "Asturio\n",
      "Asturiasko Printzerria\n",
      "Asturias\n",
      "Asturies\n",
      "Asturias\n",
      "Asturias\n",
      "Asturie\n",
      "アストゥリアス州\n",
      "아스투리아스주\n",
      "Asturië (regio)\n",
      "Asturia\n",
      "Астурия\n",
      "Astúrias\n",
      "Asturien\n",
      "Астурія\n",
      "阿斯图里亚斯\n",
      "---------------------------\n",
      "en: Asturias\n",
      "ar: أشتورية\n",
      "ca: Astúries\n",
      "cs: Asturie\n",
      "el: Αστούριες\n",
      "de: Asturien\n",
      "eo: Asturio\n",
      "eu: Asturiasko Printzerria\n",
      "es: Asturias\n",
      "fr: Asturies\n",
      "ga: Asturias\n",
      "in: Asturias\n",
      "it: Asturie\n",
      "ja: アストゥリアス州\n",
      "ko: 아스투리아스주\n",
      "nl: Asturië (regio)\n",
      "pl: Asturia\n",
      "ru: Астурия\n",
      "pt: Astúrias\n",
      "sv: Asturien\n",
      "uk: Астурія\n",
      "zh: 阿斯图里亚斯\n"
     ]
    }
   ],
   "source": [
    "sparql = SPARQLWrapper(\"http://dbpedia.org/sparql\")\n",
    "sparql.setQuery(\"\"\"\n",
    "    PREFIX rdfs: <http://www.w3.org/2000/01/rdf-schema#>\n",
    "    SELECT ?label\n",
    "    WHERE { <http://dbpedia.org/resource/Asturias> rdfs:label ?label }\n",
    "\"\"\")\n",
    "sparql.setReturnFormat(JSON)\n",
    "results = sparql.query().convert()\n",
    "\n",
    "for result in results[\"results\"][\"bindings\"]:\n",
    "    print(result[\"label\"][\"value\"])\n",
    "\n",
    "print('---------------------------')\n",
    "\n",
    "for result in results[\"results\"][\"bindings\"]:\n",
    "    print('%s: %s' % (result[\"label\"][\"xml:lang\"], result[\"label\"][\"value\"]))"
   ]
  },
  {
   "cell_type": "code",
   "execution_count": null,
   "id": "4a82e3b7",
   "metadata": {},
   "outputs": [],
   "source": []
  }
 ],
 "metadata": {
  "kernelspec": {
   "display_name": "Python 3 (ipykernel)",
   "language": "python",
   "name": "python3"
  },
  "language_info": {
   "codemirror_mode": {
    "name": "ipython",
    "version": 3
   },
   "file_extension": ".py",
   "mimetype": "text/x-python",
   "name": "python",
   "nbconvert_exporter": "python",
   "pygments_lexer": "ipython3",
   "version": "3.9.7"
  }
 },
 "nbformat": 4,
 "nbformat_minor": 5
}
