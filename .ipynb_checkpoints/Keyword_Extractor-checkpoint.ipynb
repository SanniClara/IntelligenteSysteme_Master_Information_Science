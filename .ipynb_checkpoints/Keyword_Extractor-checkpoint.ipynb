{
 "cells": [
  {
   "cell_type": "code",
   "execution_count": 33,
   "id": "fb80531e",
   "metadata": {},
   "outputs": [],
   "source": [
    "from ipywidgets import IntProgress\n",
    "import requests\n",
    "from keybert import KeyBERT\n",
    "from SPARQLWrapper import SPARQLWrapper, JSON\n",
    "from rdflib import Graph \n",
    "from rdflib import SKOS\n",
    "from rdflib.namespace import Namespace\n",
    "import io\n",
    "import pydotplus\n",
    "from IPython.display import display, Image\n",
    "from rdflib.tools.rdf2dot import rdf2dot\n",
    "from selenium import webdriver\n",
    "from selenium.webdriver.common.by import By\n",
    "from selenium.webdriver.common.keys import Keys\n",
    "from selenium.webdriver.chrome.service import Service"
   ]
  },
  {
   "cell_type": "code",
   "execution_count": 5,
   "id": "2f5d7e10",
   "metadata": {},
   "outputs": [
    {
     "name": "stdout",
     "output_type": "stream",
     "text": [
      "[<selenium.webdriver.remote.webelement.WebElement (session=\"70e413de-13d9-4077-b283-f39c697b2b3e\", element=\"07ac345e-f0f4-4d66-accf-44603db71c8c\")>, <selenium.webdriver.remote.webelement.WebElement (session=\"70e413de-13d9-4077-b283-f39c697b2b3e\", element=\"5f467d4b-46c2-4f97-b57a-4f21d1fe4cff\")>, <selenium.webdriver.remote.webelement.WebElement (session=\"70e413de-13d9-4077-b283-f39c697b2b3e\", element=\"2f773be1-f933-4c07-af47-6963fe775944\")>, <selenium.webdriver.remote.webelement.WebElement (session=\"70e413de-13d9-4077-b283-f39c697b2b3e\", element=\"ad5487d3-ce92-4530-9667-9b9855c3cf6a\")>, <selenium.webdriver.remote.webelement.WebElement (session=\"70e413de-13d9-4077-b283-f39c697b2b3e\", element=\"dac36ac2-0ad3-4174-9133-9a748ed3edde\")>, <selenium.webdriver.remote.webelement.WebElement (session=\"70e413de-13d9-4077-b283-f39c697b2b3e\", element=\"42219a91-5700-4d2b-899e-34df6e733134\")>, <selenium.webdriver.remote.webelement.WebElement (session=\"70e413de-13d9-4077-b283-f39c697b2b3e\", element=\"b9805166-77f0-4493-b0fd-c0f534409964\")>, <selenium.webdriver.remote.webelement.WebElement (session=\"70e413de-13d9-4077-b283-f39c697b2b3e\", element=\"15f488fd-107c-4693-b604-45e45ce57391\")>, <selenium.webdriver.remote.webelement.WebElement (session=\"70e413de-13d9-4077-b283-f39c697b2b3e\", element=\"30f0b848-c86d-413e-9e78-cdc697086194\")>, <selenium.webdriver.remote.webelement.WebElement (session=\"70e413de-13d9-4077-b283-f39c697b2b3e\", element=\"595a80e2-2473-486e-b956-e26b8d0d99fc\")>, <selenium.webdriver.remote.webelement.WebElement (session=\"70e413de-13d9-4077-b283-f39c697b2b3e\", element=\"1e07dd34-baa8-4c3e-be5f-1a51bcdc99ad\")>, <selenium.webdriver.remote.webelement.WebElement (session=\"70e413de-13d9-4077-b283-f39c697b2b3e\", element=\"227adc93-1a2e-4066-a726-61eb1fef0f9a\")>, <selenium.webdriver.remote.webelement.WebElement (session=\"70e413de-13d9-4077-b283-f39c697b2b3e\", element=\"1ca8e48b-0478-4caf-911e-9b5f20bde80c\")>, <selenium.webdriver.remote.webelement.WebElement (session=\"70e413de-13d9-4077-b283-f39c697b2b3e\", element=\"686fc9b0-d975-4f3c-8dee-8a4ee042a0d3\")>, <selenium.webdriver.remote.webelement.WebElement (session=\"70e413de-13d9-4077-b283-f39c697b2b3e\", element=\"c2fd0f82-fac3-4b2c-93f0-67b618a666b9\")>, <selenium.webdriver.remote.webelement.WebElement (session=\"70e413de-13d9-4077-b283-f39c697b2b3e\", element=\"4c5d93ed-6e83-40d7-a62b-c05bab9dbf93\")>, <selenium.webdriver.remote.webelement.WebElement (session=\"70e413de-13d9-4077-b283-f39c697b2b3e\", element=\"3e8b5fd8-3a7a-4bb5-9a3f-f03265db25d5\")>, <selenium.webdriver.remote.webelement.WebElement (session=\"70e413de-13d9-4077-b283-f39c697b2b3e\", element=\"f073c0d9-cebf-42f1-af89-0dc50e5b2e12\")>, <selenium.webdriver.remote.webelement.WebElement (session=\"70e413de-13d9-4077-b283-f39c697b2b3e\", element=\"be8a3f95-9e24-457a-b1d1-de17adafec5b\")>, <selenium.webdriver.remote.webelement.WebElement (session=\"70e413de-13d9-4077-b283-f39c697b2b3e\", element=\"2f0686a4-e9bf-4c1d-8cd0-a1192027a036\")>, <selenium.webdriver.remote.webelement.WebElement (session=\"70e413de-13d9-4077-b283-f39c697b2b3e\", element=\"0dc5ca8a-fdbb-4582-a161-9b2c387b592e\")>, <selenium.webdriver.remote.webelement.WebElement (session=\"70e413de-13d9-4077-b283-f39c697b2b3e\", element=\"112d48f5-e4db-4d6c-9baa-244850cb17d1\")>, <selenium.webdriver.remote.webelement.WebElement (session=\"70e413de-13d9-4077-b283-f39c697b2b3e\", element=\"2972ef7f-8b8c-48c1-9071-32a2b29950d0\")>, <selenium.webdriver.remote.webelement.WebElement (session=\"70e413de-13d9-4077-b283-f39c697b2b3e\", element=\"47ba3283-dad9-488e-9cfd-a7ab18b8f23b\")>, <selenium.webdriver.remote.webelement.WebElement (session=\"70e413de-13d9-4077-b283-f39c697b2b3e\", element=\"bc3d6058-f93e-476b-b376-dcc98de0128b\")>, <selenium.webdriver.remote.webelement.WebElement (session=\"70e413de-13d9-4077-b283-f39c697b2b3e\", element=\"17bcfeac-d8ab-4998-912e-a41e784605d0\")>, <selenium.webdriver.remote.webelement.WebElement (session=\"70e413de-13d9-4077-b283-f39c697b2b3e\", element=\"6d3fe75c-328f-4fe1-8fc9-a49b18b47a31\")>, <selenium.webdriver.remote.webelement.WebElement (session=\"70e413de-13d9-4077-b283-f39c697b2b3e\", element=\"971d3d9a-eda3-475b-b25c-966d08d68f0d\")>, <selenium.webdriver.remote.webelement.WebElement (session=\"70e413de-13d9-4077-b283-f39c697b2b3e\", element=\"8bec4a2c-4a08-4a55-9eba-220989b0f56d\")>, <selenium.webdriver.remote.webelement.WebElement (session=\"70e413de-13d9-4077-b283-f39c697b2b3e\", element=\"e112aaf6-3310-412a-8a61-f20557edfcb7\")>, <selenium.webdriver.remote.webelement.WebElement (session=\"70e413de-13d9-4077-b283-f39c697b2b3e\", element=\"039960ec-b9ec-4cce-b584-8a2a3290d846\")>, <selenium.webdriver.remote.webelement.WebElement (session=\"70e413de-13d9-4077-b283-f39c697b2b3e\", element=\"8e152f54-1877-42b4-ad36-afe4571cb4cc\")>, <selenium.webdriver.remote.webelement.WebElement (session=\"70e413de-13d9-4077-b283-f39c697b2b3e\", element=\"f2cbfa67-d159-4a63-95c2-d13e4ef03e6c\")>, <selenium.webdriver.remote.webelement.WebElement (session=\"70e413de-13d9-4077-b283-f39c697b2b3e\", element=\"7a0242d0-2b3a-48f7-af25-8da0345d3480\")>, <selenium.webdriver.remote.webelement.WebElement (session=\"70e413de-13d9-4077-b283-f39c697b2b3e\", element=\"2a318f92-4708-4a62-98bc-d0bb8bfa4cb9\")>, <selenium.webdriver.remote.webelement.WebElement (session=\"70e413de-13d9-4077-b283-f39c697b2b3e\", element=\"7758f273-e65b-43bd-8f41-bfcefbe510ef\")>, <selenium.webdriver.remote.webelement.WebElement (session=\"70e413de-13d9-4077-b283-f39c697b2b3e\", element=\"5049d288-2615-4b7d-803c-75f786c40ad5\")>, <selenium.webdriver.remote.webelement.WebElement (session=\"70e413de-13d9-4077-b283-f39c697b2b3e\", element=\"ed1fcc08-d6be-41c7-856b-c635b0901515\")>, <selenium.webdriver.remote.webelement.WebElement (session=\"70e413de-13d9-4077-b283-f39c697b2b3e\", element=\"80db96d7-17d3-4c8f-b0cf-6fcba560b8c3\")>, <selenium.webdriver.remote.webelement.WebElement (session=\"70e413de-13d9-4077-b283-f39c697b2b3e\", element=\"37b0f94f-e9f0-41ee-abb1-93c9f4c0a579\")>, <selenium.webdriver.remote.webelement.WebElement (session=\"70e413de-13d9-4077-b283-f39c697b2b3e\", element=\"67df1b6b-feb3-47f1-9e28-8faea972cdec\")>, <selenium.webdriver.remote.webelement.WebElement (session=\"70e413de-13d9-4077-b283-f39c697b2b3e\", element=\"31569317-1745-433c-9594-0e176dba0ec2\")>, <selenium.webdriver.remote.webelement.WebElement (session=\"70e413de-13d9-4077-b283-f39c697b2b3e\", element=\"758ba669-2e86-46b0-b730-98d1e04c6460\")>, <selenium.webdriver.remote.webelement.WebElement (session=\"70e413de-13d9-4077-b283-f39c697b2b3e\", element=\"b8567a45-3fe3-4ae0-a4d4-960687530b85\")>, <selenium.webdriver.remote.webelement.WebElement (session=\"70e413de-13d9-4077-b283-f39c697b2b3e\", element=\"d6eb1098-bc4c-4bbc-8786-921688e085b0\")>, <selenium.webdriver.remote.webelement.WebElement (session=\"70e413de-13d9-4077-b283-f39c697b2b3e\", element=\"f38f0eff-64fb-4018-abf0-e6ed1b8b13c1\")>, <selenium.webdriver.remote.webelement.WebElement (session=\"70e413de-13d9-4077-b283-f39c697b2b3e\", element=\"325da4dd-6a1e-47f2-9019-78f3c62c815f\")>, <selenium.webdriver.remote.webelement.WebElement (session=\"70e413de-13d9-4077-b283-f39c697b2b3e\", element=\"30940fdc-0cd3-48d4-8d8c-660b606bdeb4\")>, <selenium.webdriver.remote.webelement.WebElement (session=\"70e413de-13d9-4077-b283-f39c697b2b3e\", element=\"a6984dec-34e5-496c-b1cc-083d7a7c3bf3\")>, <selenium.webdriver.remote.webelement.WebElement (session=\"70e413de-13d9-4077-b283-f39c697b2b3e\", element=\"129a2451-268d-49ca-b90d-30e1981f3d52\")>]\n"
     ]
    }
   ],
   "source": [
    "searchInputEINS = \"heart\"\n",
    "searchInputZWEI = \"lunge\"\n",
    "driver = webdriver.Firefox()\n",
    "# singel word search:\n",
    "# driver.get(\"https://www.nature.com/search?q=\" + searchInputEINS + \"&journal=\")\n",
    "\n",
    "driver.get(\"https://www.nature.com/search?q=\" + searchInputEINS + \"%20\"  + searchInputZWEI + \"&order=relevance\")\n",
    "links = driver.find_elements(By.CLASS_NAME, \"c-card__link\")\n",
    "#neu = links.driver.find_elements(By.CSS_SELECTOR, 'a')\n",
    "neuerArray = []\n",
    "\n",
    "for i in links:\n",
    "    intoString = i.get_attribute(\"href\")\n",
    "    #print(i.get_attribute(\"href\"))\n",
    "    intoString = str(intoString)\n",
    "    neuerArray.append(intoString)\n",
    "    #driver.get(intoString)\n",
    "    \n",
    "print(links)"
   ]
  },
  {
   "cell_type": "code",
   "execution_count": 9,
   "id": "4d104794",
   "metadata": {},
   "outputs": [
    {
     "name": "stdout",
     "output_type": "stream",
     "text": [
      "['https://www.nature.com/articles/021001a0', 'https://www.nature.com/articles/s41598-020-69139-z', 'https://www.nature.com/articles/026620a0', 'https://www.nature.com/articles/s41598-021-98395-w', 'https://www.nature.com/articles/s41598-020-70599-6', 'https://www.nature.com/articles/195718b0', 'https://www.nature.com/articles/212871a0', 'https://www.nature.com/articles/212871b0', 'https://www.nature.com/articles/pr197542', 'https://www.nature.com/articles/sc197985', 'https://www.nature.com/articles/d41586-018-05590-3', 'https://www.nature.com/articles/041468b0', 'https://www.nature.com/articles/pr1980505', 'https://www.nature.com/articles/s41598-021-88898-x', 'https://www.nature.com/articles/s41393-019-0239-7', 'https://www.nature.com/articles/076276b0', 'https://www.nature.com/articles/094301a0', 'https://www.nature.com/articles/212870b0', 'https://www.nature.com/articles/004282a0', 'https://www.nature.com/articles/096097a0', 'https://www.nature.com/articles/nbt0492-383', 'https://www.nature.com/articles/128751a0', 'https://www.nature.com/articles/6604433', 'https://www.nature.com/articles/075480a0', 'https://www.nature.com/articles/072255a0', 'https://www.nature.com/articles/072251a0', 'https://www.nature.com/articles/pr19771345', 'https://www.nature.com/articles/pr196814', 'https://www.nature.com/articles/s41598-020-65444-9', 'https://www.nature.com/articles/s41598-021-87195-x', 'https://www.nature.com/articles/0803013', 'https://www.nature.com/articles/069243a0', 'https://www.nature.com/articles/pr197543', 'https://www.nature.com/articles/032091b0', 'https://www.nature.com/articles/026617a0', 'https://www.nature.com/articles/pr2003501', 'https://www.nature.com/articles/075476a0', 'https://www.nature.com/articles/075443b0', 'https://www.nature.com/articles/087461a0', 'https://www.nature.com/articles/s41598-020-62709-1', 'https://www.nature.com/articles/srep33864', 'https://www.nature.com/articles/s41598-020-58098-0', 'https://www.nature.com/articles/s41598-019-45251-7', 'https://www.nature.com/articles/513157a', 'https://www.nature.com/articles/054158a0', 'https://www.nature.com/articles/113548a0', 'https://www.nature.com/articles/080349a0', 'https://www.nature.com/articles/pr197683', 'https://www.nature.com/articles/pr19812264', 'https://www.nature.com/articles/pr19871632']\n",
      "50\n"
     ]
    }
   ],
   "source": [
    "print(neuerArray)\n",
    "print(len(neuerArray))"
   ]
  },
  {
   "cell_type": "code",
   "execution_count": 10,
   "id": "1d2c9eaa",
   "metadata": {},
   "outputs": [
    {
     "name": "stdout",
     "output_type": "stream",
     "text": [
      "IN all the commentaries upon the “Historia Animalium” which I have met with, Aristotle's express and repeated statement, that the heart of man and the largest animals contains only three cavities, is noted as a remarkable error. Even Cuvier, who had a great advantage over most of the commentators in his familiarity with the subject of Aristotle's description, and whose habitual caution and moderation seem to desert him when the opportunity of panegyrising the philosopher presents itself, is betrayed into something like a sneer on this topic.\n",
      "Aerobic and resistance exercise acutely increase cognitive performance (CP). High-intensity functional training (HIFT) combines the characteristics of both regimes but its effect on CP is unclear. Thirty-five healthy individuals (26.7 ± 3.6 years, 18 females) were randomly allocated to three groups. The first (HIFT) performed a functional whole-body workout at maximal effort and in circuit format, while a second walked at 60% of the heart rate reserve (WALK). The third group remained physically inactive reading a book (CON). Before and after the 15-min intervention period, CP was assessed with the Stroop Test, Trail Making Test and Digit Span Test. Repeated-measures ANOVAs and post-hoc 95% confidence intervals (95% CI) were used to detect time/group differences. A significant group*time interaction was found for the backwards condition of the Digit Span Test (p = 0.04) and according to the 95% CI, HIFT was superior to WALK and CON. Analysis of the sum score of the Digit Span Test and the incongruent condition of the Stroop Test, furthermore, revealed main effects for time (p < 0.05) with HIFT being the only intervention improving CP. No differences were found for the Trail Making Test (p > 0.05). In conclusion, HIFT represents an appropriate method to acutely improve working memory, potentially being superior to moderate aerobic-type exercise.\n",
      "A couple of centuries have just elapsed since the first English patent was granted to Becker and Serle for “a new way of makeing pitch and tarre out of pit coale, never before found out or used by any other”; and in 1742 a second patent was obtained by M. and T. Betton for the manufacture of “an oyle extracted from a flinty rock for the cure of rheumatick, and scorbutick, and other cases.” Whether we have here a foreshadowing of the antiseptic method of treatment is impossible to say, but that there was virtue of another sort in coal-tar was fully recognised by the Earl of Dundonald, the father of brave Lord Cochrane, who, towards the close of the last century, set up tar ovens on a pretty extensive scale in Ayrshire.\n",
      "This trial evaluates whether nocturnal oxygen therapy (NOT) during a stay at 2048 m improves altitude-induced exercise intolerance in lowlanders with chronic obstructive pulmonary disease (COPD). 32 lowlanders with moderate to severe COPD, mean ± SD forced expiratory volume in the first second of expiration (FEV1) 54 ± 13% predicted, stayed for 2 days at 2048 m twice, once with NOT, once with placebo according to a randomized, crossover trial with a 2-week washout period at < 800 m in-between. Semi-supine, constant-load cycle exercise to exhaustion at 60% of maximal work-rate was performed at 490 m and after the first night at 2048 m. Endurance time was the primary outcome. Additional outcomes were cerebral tissue oxygenation (CTO), arterial blood gases and breath-by-breath measurements (http://www.ClinicalTrials.gov NCT02150590). Mean ± SE endurance time at 490 m was 602 ± 65 s, at 2048 m after placebo 345 ± 62 s and at 2048 m after NOT 293 ± 60 s, respectively (P < 0.001 vs. 490 m). Mean difference (95%CI) NOT versus placebo was − 52 s (− 174 to 70), P = 0.401. End-exercise pulse oximetry (SpO2), CTO and minute ventilation (\\({\\dot{\\text{V}}}_{{\\text{E}}}\\)) at 490 m were: SpO2 92 ± 1%, CTO 65 ± 1%, \\({\\dot{\\text{V}}}_{{\\text{E}}}\\) 37.7 ± 2.0 L/min; at 2048 m with placebo: SpO2 85 ± 1%, CTO 61 ± 1%, \\({\\dot{\\text{V}}}_{{\\text{E}}}\\) 40.6 ± 2.0 L/min and with NOT: SpO2 84 ± 1%; CTO 61 ± 1%; \\({\\dot{\\text{V}}}_{{\\text{E}}}\\) 40.6 ± 2.0 L/min (P < 0.05, SpO2, CTO at 2048 m with placebo vs. 490 m; P = NS, NOT vs. placebo). Altitude-related hypoxemia and cerebral hypoxia impaired exercise endurance in patients with moderate to severe COPD and were not prevented by NOT.\n",
      "Muscle oxygenation (MO) status is the dynamic balance between O2 utilization and O2 delivery. Low-impact high-intensity interval exercise MO responses in the exercise and recovery stage are still unclear. We compared the differences in MO and physiological parameters between high-intensity interval water-based exercise (WHIIE) and high-intensity interval land bike ergonomic exercise (LBEHIIE) in postmenopausal women. Eleven postmenopausal women completed WHIIE or LBEHIIE in counter-balanced order. Eight sets were performed and each exercise set included high intensity with 80% heart rate reserve (HRR) in 30 s and dynamic recovery with 50% HRR in 90 s. Muscle tissue oxygen saturation index (TSI), total hemoglobin (tHb), oxy-hemoglobin (O2Hb), and deoxy-hemoglobin (HHb) were recorded. Blood lactate, heart rate and rating of perceived exertion (RPE) were measured at pre and post-exercise. Under similar exercise intensity, RPE in WHIIE was lower than that in LBEHIIE. The heart rate in WHIIE was lower than that in LBEHIIE at 1 and 2 min post-exercise. During the dynamic recovery, TSI, tHb, and O2Hb in water were higher than on land. A negative correlation was found between the change in TSI and lactate concentration (r = − 0.664). WHIIE produced greater muscle oxygenation during dynamic recovery. Muscle TSI% was inversely related to blood lactate concentration during exercise in water.\n",
      "MITOTIC rate or ‘rate of cell renewal’ can be defined as the number of cells which complete their mitosis per unit time.\n",
      "Extract: An indicator-dilution method is described for measuring fetal pulmonary fluid, FPF, volume (Ve), and volume change with time (Vs) in the lamb fetus in utero. The indicator, albumin, which is the predominant protein of normal FPF, was administered directly to FPF in the form of radio-iodinated human serum albumin (RISA). We have shown that (1) RISA is disbributed homogeneously throughout the FPF compartment, (2) it is not altered within FPF, (3) it does not alter the functional characteristics of FPF, and (4) it remains within the FPF compartment throughout the period of measurement. Ve varies directly with the weight of the fetus so that Ve per kilogram was 31.6–35.6 ml/kg in four of five fetuses. The Ve per kilogram was lower in one fetus at the start of the experiment but increased rapidly to 29.0 ml/kg within 45 min. Thus the relaxation volume of the fetus in utero is in the range of functional residual capacity (FRC) and thoracic gas volume of the air-breathing neonate, which indicates that the pulmonary transformation at birth is, in essence, an isovolumic change in state wherein the fetal liquid-lung becomes the neonatal air-lung. The rate at which FPF is formed (V) is about 1.5 ml/hr-kg; however, the rate may change in so far as both rapid increases and rapid decreases of FPF volume were observed. When breathing movements were induced in the fetus by stimulation of the sciatic nerve, FPF volume decreased rapidly (Vs = −3.0 ml/hr-kg), which indicates that negative intrathoracic pressures promote its resorption. When FPF volume fell transiently or was low initially, there was subsequent rapid restoration of volume to the range of anticipated FRC.\n",
      "Speculation: Validation of a reliable method for measuring Ve and Vs of FPF in utero provides a basis for study of molecular transformations within this compartment during gestation, e.g., our investigation of the fate of FPF phosphatidylcholine in the accompanying report. Since FPF is the analog of the alveolar lining layer of the air-breathing animal, studies of the former (FPF) may give insight into the fluid and molecular dynamics of the latter which, to date, have been quite elusive because the lining layer cannot be sampled directly. Our observation that negative intrathoracic pressure alone seems to promote resorption of FPF under the conditions of our experiments suggests that this may be an important mechanism for the formation of the air-lung at birth. Since relaxation volume of the fetus is practically the same as that of the neonate, we have proposed that alveolar surface tension of the neonate is close to 0.\n"
     ]
    },
    {
     "name": "stdout",
     "output_type": "stream",
     "text": [
      "Blood flow, cardiac output, blood pressure, indicator mixing time and blood volume were measured in rats before and after spinal cord injury. After cutting off the spinal cord blood flow decreases markedly in the paraplegic area but also in the main organs of the animals. Only the blood supply of the lung increases by this manipulation. As blood volume and the blood pressure is decreased and the indicator mixing time delayed the situation of the spinal cord injury can be compared with the situation after acute blood loss. Therefore it is proposed to include circulatory disturbances into the conception of the acute spinal shock situation.\n",
      "Summary: A considerable interest has been focused on the effects of various drugs on fetal and neonatal pulmonary maturation and adaptation. In the present study, we have investigated the effects of the selective β1- and β2-receptor-stimulating agents prenalterol and terbutaline on the pressure-volume relationship and fluid content in fetal rabbit lung at 28 days of gestation. Pressure-volume recordings during deflation showed significantly increased lung volumes at equivalent transpulmonary pressures in terbuta-ine-trcated fetuses as compared to controls. No such effect was noted after prenalterol. In the control animals, wet lung weight/body weight ratio decreased to a steady state level 60 min after birth, indicating a rapid dehydration of the lungs. This dehydration was present at delivery after terbutaline and prenalterol treatment. The amount of fluid collected from the airways was also reduced after terbutaline and prenalterol treatment. The present results indicate facilitated neonatal respiratory adaptation after especially terbutaline treatment. Possible mechanisms behind these effects are discussed.\n",
      "Possessiveness toward objects and sharing are competing tendencies that influence dyadic and group interactions within the primate lineage. A distinctive form of sharing in adult Homo sapiens involves active giving of high-valued possessions to others, without an immediate reciprocal benefit. In two Experiments with 19-month-old human infants (N = 96), we found that despite measurable possessive behavior toward their own personal objects (favorite toy, bottle), infants spontaneously gave these items to a begging stranger. Moreover, human infants exhibited this behavior across different types of objects that are relevant to theory (personal objects, sweet food, and common objects)—showing flexible generalizability not evidenced in non-human primates. We combined these data with a previous dataset, yielding a large sample of infants (N = 192), and identified sociocultural factors that may calibrate young infants’ sharing of objects with others. The current findings show a proclivity that is rare or absent in our closest living relatives—the capacity to override possessive behavior toward personally valued objects by sharing those same desired objects with others.\n",
      "Randomized dual center controlled clinical trial.\n",
      "To determine and compare the cardiorespiratory impact of 3 months of aquatic and robotic therapy for individuals with chronic motor incomplete spinal cord injury (CMISCI).\n",
      "Two rehabilitation specialty hospitals.\n",
      "Thirty-one individuals with CMISCI with neurological level between C2-T12 at least 1 year post injury were randomized to either aquatic or robotic treadmill therapy for 36 sessions. Customized sessions lasted 40–45 min at 65–75% heart rate reserve intensity with peak oxygen consumption (peak VO2) measured during arm ergometry at baseline and post intervention. Additional peak robotic treadmill VO2 assessments were obtained before and after training for participants randomized to robotic intervention.\n",
      "Peak VO2 measured with arm ergometry was not significantly different with either aquatic intervention (8.1%, p = 0.14, n = 15) or robotic intervention (−0.7%, p = 0.31, n = 17). Peak VO2 measured with robotic treadmill ergometry demonstrated a statistical improvement (14.7%, p = 0.03, n = 17, two-tailed t-test) across the robotic intervention. Comparison between the two interventions demonstrated a trend favoring aquatic therapy for improving arm ergometry peak VO2 (ANOVA, p = 0.063).\n",
      "Neither 3-month exercise interventions statistically improved arm cycle ergometry peak VO2, our cardiorespiratory surrogate marker, although percent improvement was greater in the aquatic exercise condition. Robotic ergometry peak VO2 did improve for the robotic intervention, confirming previous work. These results suggest that either intervention may hold utility in improving cardiorespiratory fitness in CMISCI, but peak VO2 measurement technique appears critical in detecting effects.\n",
      "DOD CDMRP SCI Research Program Clinical Trial Award SC090147, FY 2009. This study is registered under ClinicalTrials.gov Identifier: NCT01407354.\n",
      "WE regret to see the announcement of the death of Dr. A. Dupré F.R.S., on Monday, July 15, at seventy-one years of age.\n",
      "A BOOK on the West Indies by an ordinary tourist would be hardly bearable. Mr. Trollope was amusingly brilliant as well as philosophical, and we read him with pleasure; but the author of “Westward Ho!” possesses a wealth of knowledge both in history and in natural science wherewith to illustrate his journey, which, even without his charming style and world-wide popularity, would render his book attractive to many a thoughtful reader. To him the air of the West Indies is “full of ghosts” of gallant soldiers and sailors, whose deeds of daring have made almost every bay and roadstead famous, and who, he thinks, might well ask us to render an account of our stewardship of those beautiful islands, which they won for us with precious blood, and which we, too ignorant and helpless to govern them properly, have misused and neglected. Passing by Dominica recalls one of those deeds, the record of which must thrill the heart of every Englishman: “here Rodney, on the glorious 12th of April broke Count de Grasse's line (teaching thereby Nelson to do the same in like case), took and destroyed seven French ships of the line, and scattered the rest, preventing the French fleet from joining the Spaniards at His-paniola, thus saving Jamaica and the whole West Indies, and brought about by that single tremendous blow the honourable peace of 1783. On what a scene of crippled and sinking, shattered and triumphant ships, in what a sea, must the conquerors have looked round from the Formidable's poop, with De Grasse at luncheon with Rodney in the cabin below, and not, as he had boastfully promised, on board his own Ville de Paris !”\n",
      "ANTHROPOLOGY AND ARCHÆOLOGY. A. Brown and Son, Ltd.—Early Staffordshire Pottery, being an illustrated description, by C. Earle, of the Earle Collection, deposited in the Municipal Museum, Hull, with a preface by F. Falkner, and an introductory chapter on The Evolution of the Potter's Art, by T. Sheppard. Cambridge University Press.— The Northern Bantu: An Account of some Central African Tribes of the Uganda Protectorate, Rev. J. Roscoe (Cambridge Archaeological and Ethnological Series). Duckworth and Co.—Where Animals Talk: Folk Tales of West Africa, Rev. R. H. Nassau. Seeley, Service and Co., Ltd.—Prehistoric Man and His Story, Prof. G. F. Scott Elliot, illustrated. Macmillan and Co., Ltd.—An Untamed Territory: The Northern Territory of Australia, Elsie R. Masson, illustrated; The S.P.C.K.—The Language Families of Africa; A. Werner; The Red Indians of Canada, Rev. J. Hines, illustrated. Williams and Norgate.—The Antiquity of Man, Prof. A. Keith, illustrated.\n",
      "BY the death at Llewellyn Park, West Orange, New Jersey, on Oct. 18, of Thomas Alva Edison, America has lost one of its most famous men, and one whose name, like those of his countrymen Fulton, Whitney, Colt, Morse, Bell, Maxim, Westinghouse, and the Wright brothers, will always be remembered as that of a great inventor. When a youth, Edison bought a set of Faraday's works, and he afterwards said, “I think I must have tried everything in those books.” It was in this direction his great strength lay; for, gifted with a vivid imagination and a quick and active mind, he possessed a remarkable willingness to put everything to the test, and to seek in any and every direction for a solution to the problem of the moment.\n"
     ]
    },
    {
     "name": "stdout",
     "output_type": "stream",
     "text": [
      "The short-term beneficial effects of physical rehabilitation programmes after cancer treatment have been described. However, little is known regarding the long-term effects. The purpose of this study was to investigate the long-term effects of high-intensity resistance training compared with traditional recovery. A total of 68 cancer survivors who completed an 18-week resistance training programme were followed for 1 year. During the 1-year follow-up, 19 patients dropped out (14 due to recurrence of cancer). The remaining 49 patients of the intervention group were compared with a group of 22 patients treated with chemotherapy in the same period but not participating in any rehabilitation programme. Outcome measures were muscle strength, cardiopulmonary function, fatigue, and health-related quality of life. One year after completion of the rehabilitation programme, the outcome measures in the intervention group were still at the same level as immediately after rehabilitation. Muscle strength at 1 year was significantly higher in patients who completed the resistance training programme than in the comparison group. High-intensity resistance training has persistent effects on muscle strength, cardiopulmonary function, quality of life, and fatigue. Rehabilitation programmes for patients treated with chemotherapy with a curative intention should include high-intensity resistance training in their programme.\n",
      "JULY AND AUGUST METEORS.—We have now nearly arrived at what is the most interesting period of the year for the meteoric observer. With skies often clear, with the air at an agreeable temperature, and with meteors visible in more than usual abundance, success is promisingly offered to everyone who practically enters upon the study of this important and complicated branch of astronomy.\n",
      "As the new buildings of the University of Sheffield were opened by the King at the time the present issue of NATURE was being prepared for press, we cannot do more than record the fact, reserving a description of the buildings and an account of the opening ceremony for a subsequent number.\n",
      "Summary: As little as 3–5 cm H2O increase in proximal airway pressure applied to normal lung reduces cardiac output. It is postulated that decreased pulmonary compliance in respiratory distress syndrome (RDS) acts as a barrier thus offsetting this effect. Since cardiac output is not routinely measured, severe reduction in it could accompany regression of disease while maintaining -the same airway pressure. This study was undertaken to determine whether tissue oxygen available (O2a) could be used to detect changes in perfusion during continuous positive pressure breathing (CPPB). CPPB was evaluated in 10 normal rabbits (C1 = 9.5 ± 1.8 cc/g at 25 cm H2O) and in 10 pulmonary-damaged rabbits (CL = 5.5 ± 1.4 cc/g at 25 cm H2O) produced by subjecting them to 100% O2. Airway pressure was increased from 0–15 cm H2O in 3 cm H2O increments at 10-min intervals. O2a and PaO2 were monitored continuously. In the normal group, O2a decreased at 3 cm H2O airway pressure, reaching 22% of control at 12 cm H2O, at which pressure PaO2 decreased. Breathing 100% O2 at this airway pressure increased PaO2 to 408 mm Hg, whereas O2a returned to 45% of control. In the experimental group, O2a decreased at 9 cm H2O airway pressure, at 12 cm H2O it was 36% of control at which pressure PaO2 decreased slightly. Breathing 100% O2 at this airway pressure increased PaO2 to 316 mm Hg, and increased O2a to 200% of control. These data indicate that with excessive airway pressure, muscle hypoxia may exist during systemic hyperoxemia and that a low compliance lung exerts a protective effect on O2a. Since changes in cardiac output during CPPB are compliance dependent, and since O2a is perfusion dependent, tissue oxygen available could provide a means of selecting optimal airway pressure during CPPB.\n",
      "Speculation: This study indicates that in the presence of normal PaO2 or every hyperoxemia, an excessive increase in airway pressure can produce a decrease in cardiac output and local oxygen supply to the tissues. The airway pressure required to produce optimal oxygenation without interference with cardiac output is lung compliance dependent. For the most efficient application of CPPB in clinical situations, measurement of physiologic variables which would reflect changes in perfusion in addition to systemic oxygenation are suggested.\n",
      "Extract: In ten healthy children, simultaneous measurements were made of the total pulmonary resistance and the airway resistance. The difference between these two measurements gave the lung tissue resistance which amounted to 1.08 ± 0.32 cm H2O/l/s (range, 0.65 to 1.59), or 29% of the total pulmonary resistance. It was on an average three times higher in children than in healthy adults. An inverse relation was found between lung tissue resistance and the vital capacity. Moreover, the results of measurements made in one child breathing at three different breathing patterns, indicate that with increasing tidal volume, lung tissue resistance increases. These observations suggest that lung tissue resistance itself is the sum of two components; one being due to the flow-dependent frictional forces of lung tissue, and the other, independent of flow resistance, being due to the nonideal elastic properties of the lung. The results obtained can be explained reasonably well on the basis of the latter component which seems to be much more important than the former.\n",
      "Speculation: Dynamic measurements of the nonflow resistive hysteresis may give information about the properties of surface-active substance in healthy and diseased lungs.\n",
      "We simultaneously measured the fecal microbiota and multiple environmental and host-related variables in a cohort of 185 healthy horses reared in similar conditions during a period of eight months. The pattern of rare bacteria varied from host to host and was largely different between two time points. Among a suite of variables examined, equitation factors were highly associated with the gut microbiota variability, evoking a relationship between gut microbiota and high levels of physical and mental stressors. Behavioral indicators that pointed toward a compromised welfare state (e.g. stereotypies, hypervigilance and aggressiveness) were also associated with the gut microbiota, reinforcing the notion for the existence of the microbiota-gut-brain axis. These observations were consistent with the microbiability of behaviour traits (> 15%), illustrating the importance of gut microbial composition to animal behaviour. As more elite athletes suffer from stress, targeting the microbiota offers a new opportunity to investigate the bidirectional interactions within the brain gut microbiota axis.\n",
      "Hamstring muscle injury is highly prevalent in sports involving repeated maximal sprinting. Although neuromuscular fatigue is thought to be a risk factor, the mechanisms underlying the fatigue response to repeated maximal sprints are unclear. Here, we show that repeated maximal sprints induce neuromuscular fatigue accompanied with a prolonged strength loss in hamstring muscles. The immediate hamstring strength loss was linked to both central and peripheral fatigue, while prolonged strength loss was associated with indicators of muscle damage. The kinematic changes immediately after sprinting likely protected fatigued hamstrings from excess elongation stress, while larger hamstring muscle physiological cross-sectional area and lower myoblast:fibroblast ratio appeared to protect against fatigue/damage and improve muscle recovery within the first 48 h after sprinting. We have therefore identified novel mechanisms that likely regulate the fatigue/damage response and initial recovery following repeated maximal sprinting in humans.\n",
      "To test the effects on abdominal fat reduction of adding aerobic exercise training to a diet program and obesity phenotype in response to weight loss.\n",
      "A prospective clinical trial with a 14-week weight-loss intervention design.\n",
      "In total, 209 overweight and obese women were assigned to four subgroups depending on type of treatment and the subject's obesity phenotype: diet alone (DA) with intra-abdominal fat (IF) obesity (≥mean IF area), diet plus exercise (DE) with IF obesity, DA with abdominal subcutaneous fat (ASF) obesity (<mean IF area) and DE with ASF obesity. Abdominal fat areas were evaluated by CT scans, with values adjusted for selected variables.\n",
      "Values were adjusted for age, menopausal status and change in body weight and total fat mass. The IF reductions were significantly (P<0.0001) greater in subjects with IF obesity phenotype (−45.1 cm2) compared to the ASF obesity phenotype (−22.2 cm2). The ASF reductions were significantly (P<0.001) greater for subjects with ASF obesity (−74.5 cm2) compared to IF obesity (−55.5 cm2). For IF obesity, the IF reduction was significantly (P<0.01) greater in the DE group (−49.3 cm2) than in the DA group (−37.8 cm2).\n",
      "These results suggest that for individuals with IF obesity, the efficacy on reducing IF of adding aerobic exercise training to a diet-alone weight-reduction program is more prominent (−49.3 cm2/−37.8 cm2=1.3 times) compared with DA. Moreover, abdominal fat reduction was found to be modified by obesity phenotype in response to weight loss.\n"
     ]
    },
    {
     "name": "stdout",
     "output_type": "stream",
     "text": [
      "THE best method of training electrical engineers will probably remain a subject of discussion so long as the profession continues to be a profitable one. Whether recourse should be had to the factory or to the technical college; whether a combination of these two is desirable or necessary, and if so, in what manner they should be combined; and whether the course at the technical college should be entirely by lecture and experiment, or should make free use of that royal road to excellence, the text-book; these and kindred questions will always be discussed and will never be settled. Whilst the discussion goes on the writers of text-books continue to flourish until the difficulty of deciding whether to have recourse to textbooks or not is overshadowed by the greater difficulty of deciding which would be the most profitable to read. The three books before us illustrate how the budding electrical engineer may be caught when he is yet fresh in knickerbockers and led by easy steps to a complete mastery of his profession. Mr. Ashford's “Electricity and Magnetism” is a school-book; it starts by assuming that the pupil has no knowledge of the subject at all, and, leading him by a path of experimental inquiry, ends by leaving him well fitted to begin on Mr. Crapper's more advanced treatise. This read, and the fundamental principles of continuous current circuits mastered, it only remains to study alternating currents in the work of Messrs. Ryan, Norris and Hoxie.\n",
      "Extract: Using the radio-iodinated human serum albumin ([131I]-RISA) dilution method to measure lamb fetal pulmonary fluid (FPF) volume, we followed the disappearance of protein complexed, 14C-labeled phosphatidylcholine ([14C]PC) during the first 90 min after its injection into FPF. The FPF samples were analyzed for total lipid 14C activity and for distribution of 14C in PC, other phospholipids (PL), fatty acids (FA), and neutral lipids (NL). For most sampling periods ascending aortic (AAo) and right atrial (RA) blood samples were obtained simultaneously with FPF and serum was analyzed for total lipid 14C activity and for distribution of 14C in total PL, FA, and NL. These studies indicate that (1) PC is cleared rapidly from FPF with an estimated half-time of 15–57 min; (2) FPF-PC may be metabolized to lyso-PC and FA within the fluid itself; and (3) FA derived from FPF-PC enter the pulmonary circulation, thus establishing a pulmonary arteriovenous FA gradient. The possible sites at which PC may be cleared from FPF are considered.\n",
      "Speculation: The novel possibility is suggested that FPF contains appropriate enzymes (phospholinase(s) for deacvlation of and also that PC-degradative enzymes are active at the surface of the alveolar epithelial cells. By comparison with results of others regarding the half-life of PC in the air-lung, it appears that PC clearance outside the cell (i.e., after secretion) occupies a relatively short period in the turnover of the molecule. Since the products of PC degradation appear in arterial blood as FA primarily, we may consider FPF as a possible source of serum FA.\n",
      "LONDON Royal Society, April 23.—“The Essential Nature o the Colouring of Phytophagous Larvae (and their pupae); with an account of some Experiments upon the Relation between the Colour of such Larvae and that of their Food-plants,” by Edward B. Poulton, M.A., of Jesus and Keble Colleges, Oxford.\n",
      "XX—JAMES PRESCOTT JOULE JAMES PRESCOTT JOULE was born at Salford on Christmas-Eve of the year 1818. His father and his grandfather before him were brewers, and the business, in due course, descended to Mr. Joule and his elder brother, and by them was carried on with success till it was sold in 1854. Mr. Joule's grandfather came from Elton, in Derbyshire, settled near Manchester, where he founded the business, and died at the age of fifty-four in 1799. His father, one of a numerous family, married daughter of John Prescott of Wigan. They had five children, of whom James Prescott Joule was the second, and of whom three were sons—Benjamin, the eldest, James, and John, and two daughters—Alice and Mary. Mr. Joule's mother died in 1836 at the age of forty-eight; and his father, who was an invalid for many years before his death, died at the age of seventy-four in the year 1858.\n",
      "Partial liquid ventilation (PLV) with perfluorocarbons has been considered as an alternative therapy for severe inflammatory lung disease. The present study was performed to test whether PLV influences bacterial growth and lung histology in a rabbit model of congenital pneumonia caused by group B streptococci. Near-term newborn rabbits were tracheotomized, inoculated via the airways with group B streptococci, and subsequently ventilated for 5 h with either PLV or conventional ventilation. At 30 min after group B streptococci administration, animals in the PLV group (n = 16) received 30 mL/kg body weight of perfluorocarbon (PF 5080) via the tracheal tube. Evaporative losses were substituted with 20 mL/kg perfluorocarbon at hourly intervals. Identical volumes of air were injected in control animals at the same times (n = 15). The number of colony-forming units in left lung homogenate, evaluated at the end of the experiments, tended to be lower in PLV-treated animals than in controls (6.8 × 109versus 6.4 × 1010 colony-forming units/g body weight; p = 0.06). Comparison of these numbers with the colony-forming units injected at the beginning of the experiments revealed a reduction in bacterial number in the PLV group and proliferation in the controls (−2.2 × 108versus +5.6 × 1010 colony-forming units/g body weight; p < 0.05). Histologic examination demonstrated less inflammation and more homogeneous lung expansion in PLV-treated animals. Two animals in the PLV group had focal interstitial emphysema. Our results suggest that PLV with PF 5080 reduces bacterial proliferation in experimental group B streptococcal pneumonia.\n",
      "LONDON. Royal Society, December 13, 1906.—“The Velocity or the Negative Ions in Flames.” By Ernest Gold. Communicated by Prof. H. A. Wilson, F.R.S.\n",
      "THE following candidates were selected on Thursday last by the council of the Royal Society to be recommended for election into the society:—Frank Dawson Adams, Hugh 1err Anderson, William Blaxland Benham, Lord Blythswood, William Henry Bragg, Frederick Daniel Chattaway, Arthur William Crossley, Arthur Robertson Cushny, William Duddell, Frederick William Gamble, John Ernest Petavel, Henry Cabourn Pocklington, Henry Nicholas Ridiev, Grafton Elliot Smith, and William Henry Young.\n",
      "AGRICULTURE. Crosby Lockwood and Son.—The Rubber Planter's Note-book, F. Braham, illustrated. Longmans and Co.— The Profitable Culture of Vegetables; for Market Gardeners, Small Holders and Others, T. Smith, illustrated. Williams and Norgate.—The Soil Solution: the Nutrient Medium for Plant Growth, F. K. Cameron.\n",
      "Intradialytic cycling is a widely used workout mode, whereas added benefit of other exercise modalities remains unknown. This is the first randomised controlled trial on the effects and sustainability of functional training and counselling in addition to intradialytic cycling. Patients were randomly assigned to a kinesiologist-guided functional training in addition to intradialytic cycling (n = 20, experimental group) or intradialytic cycling only (n = 20, control group) over 16 weeks. The experimental group attended predialysis functional exercise in the first eight weeks and afterward performed functional training at home for the next eight weeks. The primary study endpoint was 10-repetition-sit-to-stand test time at eight weeks: at this test, the experimental group improved significantly better than controls (−4.5 ± 1.9 s, 95%CI −8.4 to −0.7; P = 0.021), which was maintained at week 16 (−4.7 ± 2.1 s, 95%CI −9.0 to −0.3; P = 0.037). At week 8, the experimental group significantly outperformed controls also at handgrip strength (P = 0.004), lower body flexibility test (P < 0.001), balance test (P < 0.001), and upper body flexibility test (P = 0.003). At week 16, superior results of the experimental group in secondary end-points remained preserved for handgrip strength, balance, and upper body flexibility tests. Functional training with exercise counselling meaningfully improves physical performance and successfully prepares patients for sustainable home exercise.\n"
     ]
    },
    {
     "name": "stdout",
     "output_type": "stream",
     "text": [
      "Primates form strong and enduring social bonds with others and these bonds have important fitness consequences. However, how different types of communication are associated with different types of social bonds is poorly understood. Wild chimpanzees have a large repertoire of gestures, from visual gestures to tactile and auditory gestures. We used social network analysis to examine the association between proximity bonds (time spent in close proximity) and rates of gestural communication in pairs of chimpanzees when the intended recipient was within 10 m of the signaller. Pairs of chimpanzees with strong proximity bonds had higher rates of visual gestures, but lower rates of auditory long-range and tactile gestures. However, individual chimpanzees that had a larger number of proximity bonds had higher rates of auditory and tactile gestures and lower rates of visual gestures. These results suggest that visual gestures may be an efficient way to communicate with a small number of regular interaction partners, but that tactile and auditory gestures may be more effective at communicating with larger numbers of weaker bonds. Increasing flexibility of communication may have played an important role in managing differentiated social relationships in groups of increasing size and complexity in both primate and human evolution.\n",
      "This study investigated the effectiveness of Ai Chi compared to conventional water-based exercise on balance performance in individuals with chronic stroke. A total of 20 individuals with chronic stroke were randomly allocated to receive either Ai Chi or conventional water-based exercise for 60 min/time, 3 times/week, and a total of 6 weeks. Balance performance assessed by limit of stability (LOS) test and Berg balance scale (BBS). Fugl-Meyer assessment (FMA) and gait performance were documented for lower extremity movement control and walking ability, respectively. Excursion and movement velocity in LOS test was significantly increased in anteroposterior axis after receiving Ai Chi (p = 0.005 for excursion, p = 0.013 for velocity) but not conventional water-based exercise. In particular, the improvement of endpoint excursion in the Ai Chi group has significant inter-group difference (p = 0.001). Both groups showed significant improvement in BBS and FMA yet the Ai Chi group demonstrated significantly better results than control group (p = 0.025). Ai Chi is feasible for balance training in stroke, and is able to improve weight shifting in anteroposterior axis, functional balance, and lower extremity control as compared to conventional water-based exercise.\n",
      "It is crucial to precisely monitor ventilation and correctly diagnose ventilation-related pathological states for averting lung collapse and lung failure in Intensive Care Unit (ICU) patients. Although Electrical Impedance Tomography (EIT) may deliver this information continuously and non-invasively at bedside, to date there are no studies that systematically compare EIT and Dual Energy CT (DECT) during inspiration and expiration (ΔDECT) regarding varying physiological and ICU-typical pathological conditions such as atelectasis. This study aims to prove the accuracy of EIT through quantitative identification and monitoring of pathological ventilation conditions on a four-quadrant basis using ΔDECT. In a cohort of 13 pigs, this study investigated systematic changes in tidal volume (TV) and positive end-expiratory pressure (PEEP) under physiological ventilation conditions. Pathological ventilation conditions were established experimentally by single-lung ventilation and pulmonary saline lavage. Spirometric data were compared to voxel-based entire lung ΔDECT, and EIT intensities were compared to ΔDECT of a 12-cm slab of the lung around the EIT belt, the so called ΔDECTBelt. To validate ΔDECT data with spirometry, a Pearson’s correlation coefficient of 0.92 was found for 234 ventilation conditions. Comparing EIT intensity with ΔDECT(Belt), the correlation r = 0.84 was found. Normalized cross-correlation function (NCCF) between scaled global impedance (EIT) waveforms and global volume ventilator curves was r = 0.99 ± 0.003. The EIT technique correctly identified the ventilated lung in all cases of single-lung ventilation. In the four-quadrant based evaluation, which assesses the difference between end-expiratory lung volume (ΔEELV) and the corresponding parameter in EIT, i.e. the end-expiratory lung impedance (ΔEELI), the Pearson’s correlation coefficient of 0.94 was found. The respective Pearson’s correlation coefficients implies good to excellent concurrence between global and regional EIT ventilation data validated by ventilator spirometry and DECT imaging. By providing real-time images of the lung, EIT is a promising, EIT is a promising, clinically robust tool for bedside assessment of regional ventilation distribution and changes of end-expiratory lung volume.\n",
      "PHOTOGRAPHS OF STELLAR SPECTRA.—Dr. F. McClean is now engaged on a photographic investigation of the spectra of the northern stars down to the third magnitude. About 160 stars will thus be included in the survey. Some of the results, which have been recently communicated to the Royal Astronomical Society, comprise the spectra of twenty-three characteristic helium stars, and photographs of the spectra of six stars of the third magnitude showing the transitions from one type to-another (Monthly Notices, vol. lvi. p. 428). The instrument used is a photographic telescope of 12 inches aperture and 11 feet 3 inches focal length, having an objective prism of the same aperture placed in front of the object-glass. The refracting angle of the prism is 20°. The prism is mounted on a hinged frame, and the cell containing it can be rotated within the frame, so that all necessary adjustments can be effected with facility.\n",
      "Agriculture, Forestry, and Horticulture. Cambridge University Press.—Plants Poisonous to Live Stock, H. C. Long, new edition. /, B. Lippincott Company. -Agricultural Mechanics, R. H. Smith. Longmans and Co.—Rhododendrons and the Various Hybrids, J. G. Millais, second series; The Agricultural Crisis, 1920-1923, R. R. Enfield. Macmillan and Co., Ltd.—Rice, Prof. E. B. Copeland; Outlines of Fungi and Plant Diseases for Students and Practitioners of Agriculture and Horticulture, F. T. Bennett. Methuen and Co., Ltd.—Modern Farm Machinery, D. N. McHardy. University Tutorial Press, Ltd.—Farm Calculations and Accounts, Dr. A. G. Ruston; Farm Measurements (Mensuration), Dr. A. G. Ruston.\n",
      "THE annual visitation of the Royal Observatory, Greenwich, will be held on Saturday, June 5.\n",
      "Gastrointestinal infections in infants caused by virulent strains have become a problem in most countries. Our study deals with the use of preventive colonization of the intestine and therapeutic effect of an orally administered antibody. In a nursery 17 infants were artificially colonized with a non-pathogenic E. coli strain 083 and the course of gastrointestinal infections was compared with a control group of 15 infants. Both groups acquired enteric infections but the course was milder in the colonized group than in controls. In 7 infants no antibiotics were needed. In controls 12 infants had to be treated with antibiotics, 10 of them even repeatedly. The oral administration of antibody against 3 enteropathogenic E. coli strains /026,055,0111/ caused in 13 out of 15 infants a total disappearence of the enteropathogens from the intestine without any other treatment. Enterotoxin producing E. coli strains have been tested -ligated intestinal loops.\n",
      "Chronological age, body weight and plasma steroid concentrations at menarche, and subsequent ovarian function in relation to plasma/saliva steroid concentrations and glucocorticoid therapy were reviewed in 6 girls with 21-hydroxylase deficiency (3 salt-losers). Mean age at menarche was 13.6 yr (12.6-14.5); body weight varied from 45 to 66 kg. Menarche did not occur with plasma testosterone (T) levels of 5-6 nmol/L. Normal female plasma T levels occurred on changing from hydrocortisone to single dose dexamethasone (dex) given as 0.25 to 0.75 mg/day. The potency of dex relative to cortisol was 80:1 based on adrenal suppression effect. Regular menses occurred with plasma T levels in the normal female range. Ovulatory cycles were documented using menstrual profiles of saliva progesterone (P) performed at a post-menarchal age of 3.0-3.4 yr. Some showed the characteristic rise in luteal levels of saliva 17P indicating previous ovulation; one 16 yr old girl became pregnant. Anovulatory cycles also occurred in well-controlled girls. Preliminary data on controls showed absence of ovulatory cycles for at least 2 yr post-menarche. Conclusions: in CAH, 1) Menarche is not usually delayed. 2) Ovulatory cycles may be delayed but further control data is needed. 3) Normal plasma T levels are required for regular menses. 4) This can be achieved using single dose dex. therapy.\n"
     ]
    },
    {
     "name": "stdout",
     "output_type": "stream",
     "text": [
      "ABSTRACT. Antenatal exposure to corticosteroids is known to increase the pulmonary compliance of preterm animals. We wished to determine whether this was due solely to alteration in lung surfactant content. Rabbit does were injected with either vehicle alone or betamethasone on days 25 and 26 of gestation. Fetuses were delivered at 27 days and given either 50% lactated Ringer's or intratracheal natural surfactant prior to their first breath. Fetuses were mechanically ventilated at a tidal volume of 12 ml/kg for 60 min with periodic compliance measurements. Following ventilation an alveolar lavage was collected for phosphatidylcholine determination. Some fetuses did not undergo ventilation but had saline compliance studies instead. Fetuses given intratracheal surfactant had a higher dynamic compliance than fetuses exposed to antenatal corticosteroids (0.55 ± 0.01 versus 0.48 ± 0.02 ml/cm H2O/kg, respectively). Fetuses exposed to antenatal corticosteroids and given intratracheal surfactant had a dynamic compliance (0.66 ± 0.02) that was greater than those exposed to either single therapy. This was found despite an alveolar surfactant content equal to that in fetuses receiving intratracheal surfactant alone. Saline compliance at birth was significantly greater for fetuses exposed antenatally to steroids. These data imply the existence of a nonsurfactant mechanism by which antenatal corticosteroids increase fetal pulmonary compliance.\n"
     ]
    }
   ],
   "source": [
    "docs = []\n",
    "\n",
    "for x in neuerArray:\n",
    "    driver.get(x)\n",
    "    nachschauen = driver.find_elements(By.XPATH, \"//html/body/div[2]/main/article/div[2]/section[1]/div/div/p \")\n",
    "    #print(nachschauen)\n",
    "    for e in nachschauen:\n",
    "        print(e.text)\n",
    "        docs.append(e.text)\n",
    "   \n",
    "\n",
    "\n",
    "        \n",
    "\n",
    "        \n",
    "    # XPath : /html/body/div[2]/main/article/div[2]/section[1]/div/div/p || /html/body/div[2]/main/article/div[2]/section[1]/div/div/p/text()[1]"
   ]
  },
  {
   "cell_type": "code",
   "execution_count": 11,
   "id": "a332b10d",
   "metadata": {
    "scrolled": true
   },
   "outputs": [
    {
     "name": "stdout",
     "output_type": "stream",
     "text": [
      "55\n"
     ]
    }
   ],
   "source": [
    "print(len(docs))"
   ]
  },
  {
   "cell_type": "code",
   "execution_count": 12,
   "id": "aa57cf6b",
   "metadata": {},
   "outputs": [],
   "source": [
    "kw_model = KeyBERT()\n",
    "keywords = []\n",
    "manyKeywords = []\n",
    "\n",
    "for i in docs:\n",
    "  keywords.append(kw_model.extract_keywords(i))\n",
    "  #print(i)\n",
    "  manyKeywords.append(kw_model.extract_keywords(i, keyphrase_ngram_range=(1, 1), stop_words=None))"
   ]
  },
  {
   "cell_type": "code",
   "execution_count": 13,
   "id": "a6cc2ce1",
   "metadata": {
    "scrolled": true
   },
   "outputs": [
    {
     "name": "stdout",
     "output_type": "stream",
     "text": [
      "[[('aristotle', 0.5295), ('cavities', 0.3815), ('animalium', 0.36), ('philosopher', 0.3034), ('historia', 0.2945)], [('aerobic', 0.4755), ('workout', 0.4387), ('exercise', 0.4097), ('cognitive', 0.3285), ('training', 0.3105)], [('cochrane', 0.402), ('tar', 0.3822), ('antiseptic', 0.3652), ('patent', 0.3524), ('tarre', 0.3491)], [('expiratory', 0.4473), ('oxygenation', 0.3831), ('endurance', 0.3828), ('breath', 0.3499), ('exhaustion', 0.3477)], [('exertion', 0.4503), ('exercise', 0.4166), ('oxygenation', 0.3697), ('physiological', 0.3042), ('muscle', 0.2831)], [('mitosis', 0.5509), ('mitotic', 0.5075), ('cells', 0.3737), ('cell', 0.3729), ('rate', 0.3082)], [('fetal', 0.3779), ('fetus', 0.3451), ('neonatal', 0.3124), ('pulmonary', 0.311), ('fetuses', 0.302)], [('phosphatidylcholine', 0.4675), ('alveolar', 0.3828), ('lung', 0.3306), ('fetus', 0.3201), ('breathing', 0.289)], [('circulatory', 0.3233), ('paraplegic', 0.3164), ('shock', 0.3021), ('spinal', 0.2942), ('blood', 0.2179)], [('prenalterol', 0.3576), ('terbutaline', 0.351), ('neonatal', 0.3413), ('fetal', 0.328), ('pulmonary', 0.3096)], [('possessiveness', 0.4313), ('possessions', 0.4163), ('infants', 0.4022), ('possessive', 0.3821), ('primate', 0.3752)], [('clinical', 0.3657), ('trial', 0.3635), ('center', 0.3058), ('randomized', 0.2431), ('dual', 0.2266)], [('spinal', 0.4378), ('cardiorespiratory', 0.4072), ('aquatic', 0.289), ('injury', 0.2504), ('motor', 0.2065)], [('rehabilitation', 0.6382), ('hospitals', 0.6131), ('specialty', 0.468), ('two', 0.1332)], [('treadmill', 0.4763), ('neurological', 0.3568), ('cmisci', 0.273), ('injury', 0.2424), ('training', 0.2398)], [('ergometry', 0.4158), ('treadmill', 0.3136), ('aquatic', 0.2865), ('interventions', 0.2635), ('robotic', 0.2558)], [('cardiorespiratory', 0.528), ('fitness', 0.3992), ('ergometry', 0.385), ('exercise', 0.385), ('interventions', 0.2116)], [('cdmrp', 0.5684), ('dod', 0.428), ('clinical', 0.3641), ('clinicaltrials', 0.3296), ('sci', 0.2538)], [('dupré', 0.4837), ('dr', 0.365), ('regret', 0.3574), ('seventy', 0.2876), ('death', 0.284)], [('westward', 0.4548), ('indies', 0.4193), ('dominica', 0.3574), ('islands', 0.345), ('west', 0.3355)], [('archaeological', 0.4669), ('prehistoric', 0.4544), ('anthropology', 0.4409), ('pottery', 0.4402), ('tribes', 0.3857)], [('edison', 0.6693), ('inventor', 0.5704), ('faraday', 0.3907), ('thomas', 0.3432), ('wright', 0.3059)], [('rehabilitation', 0.4527), ('chemotherapy', 0.3742), ('fatigue', 0.3069), ('recovery', 0.3024), ('strength', 0.2986)], [('meteors', 0.5882), ('astronomy', 0.5459), ('meteoric', 0.5387), ('august', 0.5007), ('july', 0.4652)], [('buildings', 0.4079), ('sheffield', 0.3661), ('opening', 0.3229), ('nature', 0.3044), ('university', 0.2809)], [('respiratory', 0.4177), ('breathing', 0.3947), ('pulmonary', 0.3822), ('oxygen', 0.3371), ('lung', 0.3267)], [('oxygenation', 0.4351), ('hyperoxemia', 0.415), ('physiologic', 0.3718), ('cardiac', 0.3319), ('airway', 0.3262)], [('lung', 0.4238), ('pulmonary', 0.4133), ('resistance', 0.4045), ('breathing', 0.3255), ('tissue', 0.2939)], [('hysteresis', 0.471), ('lungs', 0.4564), ('resistive', 0.2042), ('substance', 0.1946), ('surface', 0.1449)], [('microbiota', 0.4729), ('microbial', 0.3747), ('stressors', 0.312), ('bacteria', 0.2996), ('gut', 0.2859)], [('hamstrings', 0.4868), ('hamstring', 0.4675), ('sprinting', 0.4438), ('muscle', 0.4384), ('fatigue', 0.4283)], [('aerobic', 0.5209), ('exercise', 0.4504), ('obesity', 0.4368), ('diet', 0.3984), ('fat', 0.3724)], [('weight', 0.298), ('intervention', 0.2848), ('trial', 0.2589), ('week', 0.2272), ('clinical', 0.2253)], [('obese', 0.5625), ('obesity', 0.5415), ('overweight', 0.4863), ('fat', 0.4622), ('abdominal', 0.3858)], [('menopausal', 0.4781), ('obesity', 0.4549), ('phenotype', 0.3646), ('fat', 0.3), ('weight', 0.2503)], [('aerobic', 0.5181), ('obesity', 0.4665), ('exercise', 0.4459), ('diet', 0.4157), ('fat', 0.3538)], [('electrical', 0.5079), ('electricity', 0.4749), ('textbooks', 0.4536), ('engineers', 0.4427), ('books', 0.4164)], [('phospholipids', 0.4264), ('phosphatidylcholine', 0.359), ('lipid', 0.3517), ('lipids', 0.3261), ('serum', 0.3086)], [('phospholinase', 0.4496), ('epithelial', 0.3531), ('serum', 0.3284), ('enzymes', 0.3031), ('lung', 0.299)], [('phytophagous', 0.5695), ('larvae', 0.4549), ('colour', 0.3844), ('colouring', 0.3775), ('plants', 0.3648)], [('prescott', 0.4348), ('joule', 0.3733), ('salford', 0.316), ('eldest', 0.2924), ('grandfather', 0.2628)], [('perfluorocarbon', 0.4295), ('perfluorocarbons', 0.4148), ('pneumonia', 0.3885), ('streptococcal', 0.3811), ('streptococci', 0.3689)], [('ions', 0.4426), ('velocity', 0.3775), ('flames', 0.3299), ('1906', 0.3238), ('ernest', 0.2852)], [('candidates', 0.6186), ('election', 0.3675), ('selected', 0.365), ('council', 0.3387), ('william', 0.3235)], [('agriculture', 0.5472), ('gardeners', 0.5178), ('soil', 0.4825), ('planter', 0.4767), ('vegetables', 0.4724)], [('intradialytic', 0.4974), ('predialysis', 0.4462), ('cycling', 0.3787), ('workout', 0.3247), ('exercise', 0.3199)], [('primates', 0.5121), ('primate', 0.5089), ('chimpanzees', 0.4997), ('gestures', 0.4115), ('communication', 0.3989)], [('stroke', 0.4436), ('exercise', 0.4107), ('gait', 0.349), ('walking', 0.3266), ('balance', 0.3169)], [('ventilation', 0.4178), ('spirometry', 0.3888), ('ventilator', 0.371), ('tomography', 0.3659), ('ventilated', 0.3638)], [('telescope', 0.5752), ('astronomical', 0.4945), ('spectra', 0.4321), ('stellar', 0.3826), ('stars', 0.3819)], [('rhododendrons', 0.5027), ('fungi', 0.4838), ('plants', 0.4688), ('horticulture', 0.436), ('agricultural', 0.4106)], [('greenwich', 0.5335), ('observatory', 0.4751), ('june', 0.3651), ('saturday', 0.3493), ('visitation', 0.3342)], [('enterotoxin', 0.4916), ('enteropathogens', 0.4664), ('enteropathogenic', 0.4599), ('coli', 0.435), ('intestinal', 0.4313)], [('progesterone', 0.5109), ('hydrocortisone', 0.4082), ('glucocorticoid', 0.3751), ('steroid', 0.3679), ('testosterone', 0.3512)], [('surfactant', 0.3752), ('alveolar', 0.3701), ('antenatal', 0.3578), ('phosphatidylcholine', 0.3554), ('fetal', 0.3515)]]\n"
     ]
    }
   ],
   "source": [
    "print(manyKeywords)"
   ]
  },
  {
   "cell_type": "code",
   "execution_count": 56,
   "id": "0da87d1c",
   "metadata": {},
   "outputs": [
    {
     "name": "stdout",
     "output_type": "stream",
     "text": [
      "['aristotle', 'cavities', 'animalium', 'philosopher', 'historia', 'aerobic', 'workout', 'exercise', 'cognitive', 'training', 'cochrane', 'tar', 'antiseptic', 'patent', 'tarre', 'expiratory', 'oxygenation', 'endurance', 'breath', 'exhaustion', 'exertion', 'exercise', 'oxygenation', 'physiological', 'muscle', 'mitosis', 'mitotic', 'cells', 'cell', 'rate', 'fetal', 'fetus', 'neonatal', 'pulmonary', 'fetuses', 'phosphatidylcholine', 'alveolar', 'lung', 'fetus', 'breathing', 'circulatory', 'paraplegic', 'shock', 'spinal', 'blood', 'prenalterol', 'terbutaline', 'neonatal', 'fetal', 'pulmonary', 'possessiveness', 'possessions', 'infants', 'possessive', 'primate', 'clinical', 'trial', 'center', 'randomized', 'dual', 'spinal', 'cardiorespiratory', 'aquatic', 'injury', 'motor', 'rehabilitation', 'hospitals', 'specialty', 'two', 'treadmill', 'neurological', 'cmisci', 'injury', 'training', 'ergometry', 'treadmill', 'aquatic', 'interventions', 'robotic', 'cardiorespiratory', 'fitness', 'ergometry', 'exercise', 'interventions', 'cdmrp', 'dod', 'clinical', 'clinicaltrials', 'sci', 'dupré', 'dr', 'regret', 'seventy', 'death', 'westward', 'indies', 'dominica', 'islands', 'west', 'archaeological', 'prehistoric', 'anthropology', 'pottery', 'tribes', 'edison', 'inventor', 'faraday', 'thomas', 'wright', 'rehabilitation', 'chemotherapy', 'fatigue', 'recovery', 'strength', 'meteors', 'astronomy', 'meteoric', 'august', 'july', 'buildings', 'sheffield', 'opening', 'nature', 'university', 'respiratory', 'breathing', 'pulmonary', 'oxygen', 'lung', 'oxygenation', 'hyperoxemia', 'physiologic', 'cardiac', 'airway', 'lung', 'pulmonary', 'resistance', 'breathing', 'tissue', 'hysteresis', 'lungs', 'resistive', 'substance', 'surface', 'microbiota', 'microbial', 'stressors', 'bacteria', 'gut', 'hamstrings', 'hamstring', 'sprinting', 'muscle', 'fatigue', 'aerobic', 'exercise', 'obesity', 'diet', 'fat', 'weight', 'intervention', 'trial', 'week', 'clinical', 'obese', 'obesity', 'overweight', 'fat', 'abdominal', 'menopausal', 'obesity', 'phenotype', 'fat', 'weight', 'aerobic', 'obesity', 'exercise', 'diet', 'fat', 'electrical', 'electricity', 'textbooks', 'engineers', 'books', 'phospholipids', 'phosphatidylcholine', 'lipid', 'lipids', 'serum', 'phospholinase', 'epithelial', 'serum', 'enzymes', 'lung', 'phytophagous', 'larvae', 'colour', 'colouring', 'plants', 'prescott', 'joule', 'salford', 'eldest', 'grandfather', 'perfluorocarbon', 'perfluorocarbons', 'pneumonia', 'streptococcal', 'streptococci', 'ions', 'velocity', 'flames', '1906', 'ernest', 'candidates', 'election', 'selected', 'council', 'william', 'agriculture', 'gardeners', 'soil', 'planter', 'vegetables', 'intradialytic', 'predialysis', 'cycling', 'workout', 'exercise', 'primates', 'primate', 'chimpanzees', 'gestures', 'communication', 'stroke', 'exercise', 'gait', 'walking', 'balance', 'ventilation', 'spirometry', 'ventilator', 'tomography', 'ventilated', 'telescope', 'astronomical', 'spectra', 'stellar', 'stars', 'rhododendrons', 'fungi', 'plants', 'horticulture', 'agricultural', 'greenwich', 'observatory', 'june', 'saturday', 'visitation', 'enterotoxin', 'enteropathogens', 'enteropathogenic', 'coli', 'intestinal', 'progesterone', 'hydrocortisone', 'glucocorticoid', 'steroid', 'testosterone', 'surfactant', 'alveolar', 'antenatal', 'phosphatidylcholine', 'fetal']\n"
     ]
    }
   ],
   "source": [
    "keyWordArrayStorage = []\n",
    "\n",
    "for x in manyKeywords:\n",
    "    for y in x:\n",
    "      output , certain = y\n",
    "      keyWordArrayStorage.append(output)\n",
    "\n",
    "print(keyWordArrayStorage)"
   ]
  },
  {
   "cell_type": "code",
   "execution_count": 57,
   "id": "6388517b",
   "metadata": {},
   "outputs": [
    {
     "name": "stdout",
     "output_type": "stream",
     "text": [
      "['aristotle', 'cavities', 'animalium', 'philosopher', 'historia', 'aerobic', 'workout', 'exercise', 'cognitive', 'training', 'cochrane', 'tar', 'antiseptic', 'patent', 'tarre', 'expiratory', 'oxygenation', 'endurance', 'breath', 'exhaustion', 'exertion', 'physiological', 'muscle', 'mitosis', 'mitotic', 'cells', 'cell', 'rate', 'fetal', 'fetus', 'neonatal', 'pulmonary', 'fetuses', 'phosphatidylcholine', 'alveolar', 'lung', 'breathing', 'circulatory', 'paraplegic', 'shock', 'spinal', 'blood', 'prenalterol', 'terbutaline', 'possessiveness', 'possessions', 'infants', 'possessive', 'primate', 'clinical', 'trial', 'center', 'randomized', 'dual', 'cardiorespiratory', 'aquatic', 'injury', 'motor', 'rehabilitation', 'hospitals', 'specialty', 'two', 'treadmill', 'neurological', 'cmisci', 'ergometry', 'interventions', 'robotic', 'fitness', 'cdmrp', 'dod', 'clinicaltrials', 'sci', 'dupré', 'dr', 'regret', 'seventy', 'death', 'westward', 'indies', 'dominica', 'islands', 'west', 'archaeological', 'prehistoric', 'anthropology', 'pottery', 'tribes', 'edison', 'inventor', 'faraday', 'thomas', 'wright', 'chemotherapy', 'fatigue', 'recovery', 'strength', 'meteors', 'astronomy', 'meteoric', 'august', 'july', 'buildings', 'sheffield', 'opening', 'nature', 'university', 'respiratory', 'oxygen', 'hyperoxemia', 'physiologic', 'cardiac', 'airway', 'resistance', 'tissue', 'hysteresis', 'lungs', 'resistive', 'substance', 'surface', 'microbiota', 'microbial', 'stressors', 'bacteria', 'gut', 'hamstrings', 'hamstring', 'sprinting', 'obesity', 'diet', 'fat', 'weight', 'intervention', 'week', 'obese', 'overweight', 'abdominal', 'menopausal', 'phenotype', 'electrical', 'electricity', 'textbooks', 'engineers', 'books', 'phospholipids', 'lipid', 'lipids', 'serum', 'phospholinase', 'epithelial', 'enzymes', 'phytophagous', 'larvae', 'colour', 'colouring', 'plants', 'prescott', 'joule', 'salford', 'eldest', 'grandfather', 'perfluorocarbon', 'perfluorocarbons', 'pneumonia', 'streptococcal', 'streptococci', 'ions', 'velocity', 'flames', '1906', 'ernest', 'candidates', 'election', 'selected', 'council', 'william', 'agriculture', 'gardeners', 'soil', 'planter', 'vegetables', 'intradialytic', 'predialysis', 'cycling', 'primates', 'chimpanzees', 'gestures', 'communication', 'stroke', 'gait', 'walking', 'balance', 'ventilation', 'spirometry', 'ventilator', 'tomography', 'ventilated', 'telescope', 'astronomical', 'spectra', 'stellar', 'stars', 'rhododendrons', 'fungi', 'horticulture', 'agricultural', 'greenwich', 'observatory', 'june', 'saturday', 'visitation', 'enterotoxin', 'enteropathogens', 'enteropathogenic', 'coli', 'intestinal', 'progesterone', 'hydrocortisone', 'glucocorticoid', 'steroid', 'testosterone', 'surfactant', 'antenatal']\n"
     ]
    }
   ],
   "source": [
    "final_keyWordArrayStorage = list(dict.fromkeys(keyWordArrayStorage))\n",
    "\n",
    "print(final_keyWordArrayStorage)"
   ]
  },
  {
   "cell_type": "code",
   "execution_count": 58,
   "id": "9dd40442",
   "metadata": {
    "scrolled": true
   },
   "outputs": [
    {
     "name": "stdout",
     "output_type": "stream",
     "text": [
      "aristotle: \n",
      "ancient Greek philosopher\n",
      "http://www.wikidata.org/entity/Q868\n",
      " \n",
      "cavities: \n",
      "Deformation of teeth made by acids from bacteria\n",
      "http://www.wikidata.org/entity/Q133772\n",
      " \n",
      "animalium: \n",
      "scientific article published in 1773\n",
      "http://www.wikidata.org/entity/Q56689849\n",
      " \n",
      "philosopher: \n",
      "person with an extensive knowledge of philosophy\n",
      "http://www.wikidata.org/entity/Q4964182\n",
      " \n",
      "historia: \n",
      "Wikimedia disambiguation page\n",
      "http://www.wikidata.org/entity/Q1036886\n",
      " \n",
      "aerobic: \n",
      "Wikimedia disambiguation page\n",
      "http://www.wikidata.org/entity/Q1179157\n",
      " \n",
      "workout: \n",
      "process of renegotiation regarding an organization's, or sovereign entity's delinquent debts\n",
      "http://www.wikidata.org/entity/Q1364290\n",
      " \n",
      "exercise: \n",
      "bodily activity that enhances or maintains physical fitness and overall health and wellness\n",
      "http://www.wikidata.org/entity/Q219067\n",
      " \n",
      "cognitive: \n",
      "field of computer science and engineering practices for intelligence demonstrated by machines and intelligent agents\n",
      "http://www.wikidata.org/entity/Q11660\n",
      " \n",
      "training: \n",
      "equestrian sport and art\n",
      "http://www.wikidata.org/entity/Q216033\n",
      " \n",
      "cochrane: \n",
      "family name\n",
      "http://www.wikidata.org/entity/Q5139428\n",
      " \n",
      "tar: \n",
      "Middle Eastern and Central Asian long-necked, waisted string instrument\n",
      "http://www.wikidata.org/entity/Q546936\n",
      " \n",
      "antiseptic: \n",
      "journal\n",
      "http://www.wikidata.org/entity/Q27717951\n",
      " \n",
      "patent: \n",
      "monopoly granted on a new invention\n",
      "http://www.wikidata.org/entity/Q253623\n",
      " \n",
      "tarre: \n",
      "municipality of Catalonia\n",
      "http://www.wikidata.org/entity/Q752137\n",
      " \n",
      "expiratory: \n",
      "scientific article published in May 2001\n",
      "http://www.wikidata.org/entity/Q48694539\n",
      " \n",
      "oxygenation: \n",
      "environmental remediation process for stagnant water\n",
      "http://www.wikidata.org/entity/Q17143603\n",
      " \n",
      "endurance: \n",
      "ability of an organism to exert itself and remain active for a long period of time\n",
      "http://www.wikidata.org/entity/Q778298\n",
      " \n",
      "breath: \n",
      "2007 South Korean film directed by Kim Ki-duk\n",
      "http://www.wikidata.org/entity/Q205763\n",
      " \n",
      "exhaustion: \n",
      "medical symptom usually of physical and/or mental weakness\n",
      "http://www.wikidata.org/entity/Q9690\n",
      " \n",
      "exertion: \n",
      "use of physical or perceived energy by a person\n",
      "http://www.wikidata.org/entity/Q14536140\n",
      " \n",
      "physiological: \n",
      "organism's response to a stressor such as an environmental condition or a stimulus\n",
      "http://www.wikidata.org/entity/Q123414\n",
      " \n",
      "muscle: \n",
      "contractile soft tissue of mammals\n",
      "http://www.wikidata.org/entity/Q7365\n",
      " \n",
      "mitosis: \n",
      "progression through the phases of the mitotic cell cycle, the most common eukaryotic cell cycle, which canonically comprises four successive phases called G1, S, G2, and M and includes replication of genome and subsequent segregation of chromosomes\n",
      "http://www.wikidata.org/entity/Q14763008\n",
      " \n",
      "mitotic: \n",
      "progression through the phases of the mitotic cell cycle, the most common eukaryotic cell cycle, which canonically comprises four successive phases called G1, S, G2, and M and includes replication of genome and subsequent segregation of chromosomes\n",
      "http://www.wikidata.org/entity/Q14763008\n",
      " \n",
      "cells: \n",
      "the basic structural and functional unit of all organisms\n",
      "http://www.wikidata.org/entity/Q7868\n",
      " \n",
      "cell: \n",
      "the basic structural and functional unit of all organisms\n",
      "http://www.wikidata.org/entity/Q7868\n",
      " \n",
      "rate: \n",
      "price paid or charged for a service\n",
      "http://www.wikidata.org/entity/Q736288\n",
      " \n",
      "fetal: \n",
      "severe form of fetal alcohol spectrum disorder\n",
      "http://www.wikidata.org/entity/Q400277\n",
      " \n",
      "fetus: \n",
      "prenatal human between the embryonic state and birth\n",
      "http://www.wikidata.org/entity/Q26513\n",
      " \n",
      "neonatal: \n",
      "medical care of newborns, especially the ill or premature\n",
      "http://www.wikidata.org/entity/Q898674\n",
      " \n",
      "pulmonary: \n",
      "type of obstructive lung disease characterized by long-term poor airflow\n",
      "http://www.wikidata.org/entity/Q199804\n",
      " \n",
      "fetuses: \n",
      "scientific article published on June 2009\n",
      "http://www.wikidata.org/entity/Q37189261\n",
      " \n",
      "phosphatidylcholine: \n",
      "derivatives of phosphatidic acids in which the phosphoric acid is bound in ester linkage to a choline moiety\n",
      "http://www.wikidata.org/entity/Q650187\n",
      " \n",
      "alveolar: \n",
      "consonants articulated with the tongue against or close to the superior alveolar ridge\n",
      "http://www.wikidata.org/entity/Q49749\n",
      " \n",
      "lung: \n",
      "essential respiration organ in many air-breathing animals\n",
      "http://www.wikidata.org/entity/Q7886\n",
      " \n",
      "breathing: \n",
      "process that moves air in and out of the lungs\n",
      "http://www.wikidata.org/entity/Q9530\n",
      " \n",
      "circulatory: \n",
      "three independent systems that work together: cardiovascular, pulmonary and systemic\n",
      "http://www.wikidata.org/entity/Q11068\n",
      " \n",
      "paraplegic: \n",
      "scientific article published on September 1996\n",
      "http://www.wikidata.org/entity/Q41179131\n",
      " \n",
      "shock: \n",
      "medical condition of insufficient blood flow to the tissues of the body\n",
      "http://www.wikidata.org/entity/Q178061\n",
      " \n",
      "spinal: \n",
      "inflammation of membranes around the brain and spinal cord\n",
      "http://www.wikidata.org/entity/Q48143\n",
      " \n",
      "blood: \n",
      "organic fluid which transports nutrients throughout the organism\n",
      "http://www.wikidata.org/entity/Q7873\n",
      " \n",
      "prenalterol: \n",
      "chemical compound\n",
      "http://www.wikidata.org/entity/Q7240518\n",
      " \n",
      "terbutaline: \n",
      "chemical compound\n",
      "http://www.wikidata.org/entity/Q424340\n",
      " \n",
      "possessiveness: \n",
      "scientific article published on 01 March 1959\n",
      "http://www.wikidata.org/entity/Q78598571\n",
      " \n",
      "possessions: \n",
      "2012 Japanese computer-animated anime short film by Shūhei Morita\n",
      "http://www.wikidata.org/entity/Q17339243\n",
      " \n",
      "infants: \n",
      "very young offspring of a human\n",
      "http://www.wikidata.org/entity/Q998\n",
      " \n",
      "possessive: \n",
      "word or grammatical construction used to indicate a relationship of possession in a broad sense\n",
      "http://www.wikidata.org/entity/Q2105891\n",
      " \n",
      "primate: \n",
      "order of mammals\n",
      "http://www.wikidata.org/entity/Q7380\n",
      " \n",
      "clinical: \n",
      "2017 film\n",
      "http://www.wikidata.org/entity/Q28970859\n",
      " \n",
      "trial: \n",
      "coming together of parties to a dispute, to present information in a tribunal\n",
      "http://www.wikidata.org/entity/Q8016240\n",
      " \n",
      "center: \n",
      "basketball position\n",
      "http://www.wikidata.org/entity/Q222052\n",
      " \n",
      "randomized: \n",
      "experimental method designed to reduce bias, typically accomplished by randomly allocating subjects to two or more groups, with one being a control group\n",
      "http://www.wikidata.org/entity/Q1436668\n",
      " \n",
      "dual: \n",
      "grammatical number found in some languages representing two of an entity\n",
      "http://www.wikidata.org/entity/Q110022\n",
      " \n",
      "cardiorespiratory: \n",
      "scientific article\n",
      "http://www.wikidata.org/entity/Q43947897\n",
      " \n",
      "aquatic: \n",
      "Wikimedia disambiguation page\n",
      "http://www.wikidata.org/entity/Q1177559\n",
      " \n",
      "injury: \n",
      "physiological wound caused by an external source\n",
      "http://www.wikidata.org/entity/Q193078\n",
      " \n",
      "motor: \n",
      "machine designed to produce mechanical energy from another form of energy\n",
      "http://www.wikidata.org/entity/Q44167\n",
      " \n",
      "rehabilitation: \n",
      "process to return a person to his formerly existing mental and health condition\n",
      "http://www.wikidata.org/entity/Q2795791\n",
      " \n",
      "hospitals: \n",
      "health care institution\n",
      "http://www.wikidata.org/entity/Q16917\n",
      " \n",
      "specialty: \n",
      "field limited to a specific area of ​​knowledge; specialization in an occupation or branch of learning; a specific use\n",
      "http://www.wikidata.org/entity/Q1047113\n",
      " \n",
      "two: \n",
      "natural number\n",
      "http://www.wikidata.org/entity/Q200\n",
      " \n",
      "treadmill: \n",
      "exercise machine\n",
      "http://www.wikidata.org/entity/Q839144\n",
      " \n",
      "neurological: \n",
      "infectious disease caused by Borrelia bacteria, spread by ticks\n",
      "http://www.wikidata.org/entity/Q201989\n",
      " \n",
      "cmisci: \n"
     ]
    },
    {
     "ename": "IndexError",
     "evalue": "list index out of range",
     "output_type": "error",
     "traceback": [
      "\u001b[0;31m---------------------------------------------------------------------------\u001b[0m",
      "\u001b[0;31mIndexError\u001b[0m                                Traceback (most recent call last)",
      "\u001b[0;32m/tmp/ipykernel_73788/2475138294.py\u001b[0m in \u001b[0;36m<module>\u001b[0;34m\u001b[0m\n\u001b[1;32m     10\u001b[0m     \u001b[0mr\u001b[0m \u001b[0;34m=\u001b[0m \u001b[0mrequests\u001b[0m\u001b[0;34m.\u001b[0m\u001b[0mget\u001b[0m\u001b[0;34m(\u001b[0m\u001b[0mAPI_ENDPOINT\u001b[0m\u001b[0;34m,\u001b[0m \u001b[0mparams\u001b[0m \u001b[0;34m=\u001b[0m \u001b[0mparams\u001b[0m\u001b[0;34m)\u001b[0m\u001b[0;34m\u001b[0m\u001b[0;34m\u001b[0m\u001b[0m\n\u001b[1;32m     11\u001b[0m     \u001b[0mprint\u001b[0m\u001b[0;34m(\u001b[0m\u001b[0mnew\u001b[0m \u001b[0;34m+\u001b[0m \u001b[0;34m': '\u001b[0m \u001b[0;34m)\u001b[0m\u001b[0;34m\u001b[0m\u001b[0;34m\u001b[0m\u001b[0m\n\u001b[0;32m---> 12\u001b[0;31m     \u001b[0mprint\u001b[0m\u001b[0;34m(\u001b[0m \u001b[0mr\u001b[0m\u001b[0;34m.\u001b[0m\u001b[0mjson\u001b[0m\u001b[0;34m(\u001b[0m\u001b[0;34m)\u001b[0m\u001b[0;34m[\u001b[0m\u001b[0;34m'search'\u001b[0m\u001b[0;34m]\u001b[0m\u001b[0;34m[\u001b[0m\u001b[0;36m0\u001b[0m\u001b[0;34m]\u001b[0m\u001b[0;34m[\u001b[0m\u001b[0;34m'description'\u001b[0m\u001b[0;34m]\u001b[0m\u001b[0;34m)\u001b[0m\u001b[0;34m\u001b[0m\u001b[0;34m\u001b[0m\u001b[0m\n\u001b[0m\u001b[1;32m     13\u001b[0m     \u001b[0mprint\u001b[0m\u001b[0;34m(\u001b[0m \u001b[0mr\u001b[0m\u001b[0;34m.\u001b[0m\u001b[0mjson\u001b[0m\u001b[0;34m(\u001b[0m\u001b[0;34m)\u001b[0m\u001b[0;34m[\u001b[0m\u001b[0;34m'search'\u001b[0m\u001b[0;34m]\u001b[0m\u001b[0;34m[\u001b[0m\u001b[0;36m0\u001b[0m\u001b[0;34m]\u001b[0m\u001b[0;34m[\u001b[0m\u001b[0;34m'concepturi'\u001b[0m\u001b[0;34m]\u001b[0m\u001b[0;34m)\u001b[0m\u001b[0;34m\u001b[0m\u001b[0;34m\u001b[0m\u001b[0m\n\u001b[1;32m     14\u001b[0m     \u001b[0mprint\u001b[0m\u001b[0;34m(\u001b[0m\u001b[0;34m' '\u001b[0m\u001b[0;34m)\u001b[0m\u001b[0;34m\u001b[0m\u001b[0;34m\u001b[0m\u001b[0m\n",
      "\u001b[0;31mIndexError\u001b[0m: list index out of range"
     ]
    }
   ],
   "source": [
    "for new in final_keyWordArrayStorage:\n",
    "    API_ENDPOINT = \"https://www.wikidata.org/w/api.php\"\n",
    "    query = new\n",
    "    params = {\n",
    "        'action': 'wbsearchentities',\n",
    "        'format': 'json',\n",
    "        'language': 'en',\n",
    "        'search': query\n",
    "    }\n",
    "    r = requests.get(API_ENDPOINT, params = params)\n",
    "    print(new + ': ' )\n",
    "    print( r.json()['search'][0]['description'])\n",
    "    print( r.json()['search'][0]['concepturi']) \n",
    "    print(' ')"
   ]
  },
  {
   "cell_type": "code",
   "execution_count": 45,
   "id": "392cc123",
   "metadata": {},
   "outputs": [
    {
     "name": "stdout",
     "output_type": "stream",
     "text": [
      "huggingface/tokenizers: The current process just got forked, after parallelism has already been used. Disabling parallelism to avoid deadlocks...\n",
      "To disable this warning, you can either:\n",
      "\t- Avoid using `tokenizers` before the fork if possible\n",
      "\t- Explicitly set the environment variable TOKENIZERS_PARALLELISM=(true | false)\n",
      "https://id.nlm.nih.gov/mesh/D004358.html\n",
      "huggingface/tokenizers: The current process just got forked, after parallelism has already been used. Disabling parallelism to avoid deadlocks...\n",
      "To disable this warning, you can either:\n",
      "\t- Avoid using `tokenizers` before the fork if possible\n",
      "\t- Explicitly set the environment variable TOKENIZERS_PARALLELISM=(true | false)\n",
      "https://id.nlm.nih.gov/mesh/D005221.html\n",
      "huggingface/tokenizers: The current process just got forked, after parallelism has already been used. Disabling parallelism to avoid deadlocks...\n",
      "To disable this warning, you can either:\n",
      "\t- Avoid using `tokenizers` before the fork if possible\n",
      "\t- Explicitly set the environment variable TOKENIZERS_PARALLELISM=(true | false)\n",
      "huggingface/tokenizers: The current process just got forked, after parallelism has already been used. Disabling parallelism to avoid deadlocks...\n",
      "To disable this warning, you can either:\n",
      "\t- Avoid using `tokenizers` before the fork if possible\n",
      "\t- Explicitly set the environment variable TOKENIZERS_PARALLELISM=(true | false)\n"
     ]
    }
   ],
   "source": [
    "\n",
    "\n",
    "finalArray = []\n",
    "\n",
    "for Keyword2RDF in final_keyWordArrayStorage:\n",
    "    driver2 = webdriver.Firefox()\n",
    "    driver2.get(\"https://meshb.nlm.nih.gov/search?searchInField=termDescriptor&sort=&size=20&searchType=exactMatch&searchMethod=FullWord&q=\" + Keyword2RDF )\n",
    "    links2 = driver2.find_elements(By.XPATH, \"/html/body/div[2]/div/div/div[1]/div/dl/dd[3]/a\")\n",
    "    for i in links2:\n",
    "        intoString = i.get_attribute(\"href\")\n",
    "        intoString = str(intoString)\n",
    "        finalArray.append(intoString)\n",
    "        print(intoString)\n",
    "        driver2.close()\n",
    "\n"
   ]
  },
  {
   "cell_type": "code",
   "execution_count": 46,
   "id": "983bae55",
   "metadata": {},
   "outputs": [
    {
     "name": "stdout",
     "output_type": "stream",
     "text": [
      "['https://id.nlm.nih.gov/mesh/D004358.html', 'https://id.nlm.nih.gov/mesh/D005221.html']\n"
     ]
    }
   ],
   "source": [
    "print(finalArray)"
   ]
  },
  {
   "cell_type": "code",
   "execution_count": 47,
   "id": "ad6809c1",
   "metadata": {},
   "outputs": [
    {
     "name": "stdout",
     "output_type": "stream",
     "text": [
      "huggingface/tokenizers: The current process just got forked, after parallelism has already been used. Disabling parallelism to avoid deadlocks...\n",
      "To disable this warning, you can either:\n",
      "\t- Avoid using `tokenizers` before the fork if possible\n",
      "\t- Explicitly set the environment variable TOKENIZERS_PARALLELISM=(true | false)\n",
      "huggingface/tokenizers: The current process just got forked, after parallelism has already been used. Disabling parallelism to avoid deadlocks...\n",
      "To disable this warning, you can either:\n",
      "\t- Avoid using `tokenizers` before the fork if possible\n",
      "\t- Explicitly set the environment variable TOKENIZERS_PARALLELISM=(true | false)\n",
      "['https://id.nlm.nih.gov/mesh/D004358.rdf', 'https://id.nlm.nih.gov/mesh/D004358.n3', 'https://id.nlm.nih.gov/mesh/D004358.json-ld', 'https://id.nlm.nih.gov/mesh/D005221.rdf', 'https://id.nlm.nih.gov/mesh/D005221.n3', 'https://id.nlm.nih.gov/mesh/D005221.json-ld']\n"
     ]
    }
   ],
   "source": [
    "neuerArray4 = []\n",
    "\n",
    "for getRDFPage in finalArray:\n",
    "    driver3 = webdriver.Firefox()\n",
    "    driver3.get(getRDFPage)\n",
    "    links3 = driver3.find_elements(By.XPATH, \"/html/body/div[3]/div/div/div[2]/div/div[3]/span/a\")\n",
    "    for i in links3:\n",
    "        intoString = i.get_attribute(\"href\")\n",
    "        #print(i.get_attribute(\"href\"))\n",
    "        intoString = str(intoString)\n",
    "        neuerArray4.append(intoString)\n",
    "        #driver.get(intoString)\n",
    "\n",
    "print(neuerArray4)\n",
    "\n",
    "\n",
    "\n"
   ]
  },
  {
   "cell_type": "code",
   "execution_count": 48,
   "id": "28227021",
   "metadata": {
    "scrolled": true
   },
   "outputs": [],
   "source": [
    "g = Graph()"
   ]
  },
  {
   "cell_type": "code",
   "execution_count": 49,
   "id": "4a82e3b7",
   "metadata": {},
   "outputs": [
    {
     "data": {
      "text/plain": [
       "<Graph identifier=N67467e539b56445babd19e29ada10b93 (<class 'rdflib.graph.Graph'>)>"
      ]
     },
     "execution_count": 49,
     "metadata": {},
     "output_type": "execute_result"
    }
   ],
   "source": [
    "g.parse(neuerArray4[0])\n",
    "g.parse(neuerArray4[3])\n",
    "\n"
   ]
  },
  {
   "cell_type": "code",
   "execution_count": 50,
   "id": "613ceb28",
   "metadata": {},
   "outputs": [],
   "source": [
    "g.serialize(destination=\"tbl.ttl\")\n",
    "datei = g.serialize(destination=\"tbl.ttl\")"
   ]
  },
  {
   "cell_type": "code",
   "execution_count": 51,
   "id": "11963f3e",
   "metadata": {},
   "outputs": [
    {
     "name": "stdout",
     "output_type": "stream",
     "text": [
      "Read 76 triples.\n"
     ]
    }
   ],
   "source": [
    "n = len(g)\n",
    "print(f\"Read {n} triples.\")"
   ]
  },
  {
   "cell_type": "code",
   "execution_count": 18,
   "id": "80c10c86",
   "metadata": {},
   "outputs": [
    {
     "name": "stdout",
     "output_type": "stream",
     "text": [
      "Inferred 140 triples, expansion ratio 10.0.\n"
     ]
    }
   ],
   "source": [
    "#from owlrl import DeductiveClosure, OWLRL_Semantics\n",
    "\n",
    "#DeductiveClosure(OWLRL_Semantics).expand(g)\n",
    "\n",
    "#print(f\"Inferred {len(g) - n} triples, expansion ratio {(len(g) - n)/n:.3}.\")"
   ]
  },
  {
   "cell_type": "code",
   "execution_count": 53,
   "id": "612c5ca7",
   "metadata": {},
   "outputs": [],
   "source": [
    "import io\n",
    "import pydotplus\n",
    "from IPython.display import display, Image\n",
    "from rdflib.tools.rdf2dot import rdf2dot\n",
    "import os\n",
    "import io\n",
    "import PIL.Image as Image\n"
   ]
  },
  {
   "cell_type": "markdown",
   "id": "19c1d9be",
   "metadata": {},
   "source": [
    "rdf2dot(datei)"
   ]
  },
  {
   "cell_type": "code",
   "execution_count": 54,
   "id": "96faed92",
   "metadata": {},
   "outputs": [
    {
     "name": "stdout",
     "output_type": "stream",
     "text": [
      "huggingface/tokenizers: The current process just got forked, after parallelism has already been used. Disabling parallelism to avoid deadlocks...\n",
      "To disable this warning, you can either:\n",
      "\t- Avoid using `tokenizers` before the fork if possible\n",
      "\t- Explicitly set the environment variable TOKENIZERS_PARALLELISM=(true | false)\n",
      "<PIL.PngImagePlugin.PngImageFile image mode=RGB size=15645x348 at 0x7F0970273070>\n"
     ]
    }
   ],
   "source": [
    "\n",
    "from array import array\n",
    "\n",
    "def visualize(g):\n",
    "    stream = io.StringIO()\n",
    "    rdf2dot(g, stream, opts = {display})\n",
    "    dg = pydotplus.graph_from_dot_data(stream.getvalue())\n",
    "    png = dg.create_png()\n",
    "    #display(Image(png))\n",
    "    #print(png) \n",
    "    #the png is generated as Bytes so we first need to convert it then save it as an image\n",
    "    image = Image.open(io.BytesIO(png))\n",
    "    image.save(\"tbl.png\")\n",
    "    print(image)\n",
    "    \n",
    "\n",
    "visualize(g)\n",
    "\n",
    "\n",
    "\n"
   ]
  },
  {
   "cell_type": "code",
   "execution_count": 55,
   "id": "4fc044a0",
   "metadata": {},
   "outputs": [
    {
     "name": "stdout",
     "output_type": "stream",
     "text": [
      "huggingface/tokenizers: The current process just got forked, after parallelism has already been used. Disabling parallelism to avoid deadlocks...\n",
      "To disable this warning, you can either:\n",
      "\t- Avoid using `tokenizers` before the fork if possible\n",
      "\t- Explicitly set the environment variable TOKENIZERS_PARALLELISM=(true | false)\n"
     ]
    }
   ],
   "source": [
    "f = Image.open(\"tbl.png\").show()"
   ]
  },
  {
   "cell_type": "code",
   "execution_count": null,
   "id": "903a5267",
   "metadata": {},
   "outputs": [],
   "source": []
  },
  {
   "cell_type": "code",
   "execution_count": 33,
   "id": "8895efe8",
   "metadata": {
    "scrolled": true
   },
   "outputs": [
    {
     "data": {
      "image/png": "[encoded data removed]",
      "text/plain": [
       "<Figure size 800x800 with 1 Axes>"
      ]
     },
     "metadata": {},
     "output_type": "display_data"
    }
   ],
   "source": [
    "import rdflib\n",
    "from rdflib.extras.external_graph_libs import rdflib_to_networkx_multidigraph\n",
    "import networkx as nx\n",
    "import matplotlib.pyplot as plt\n",
    "\n",
    "G = rdflib_to_networkx_multidigraph(g)\n",
    "\n",
    "# Plot Networkx instance of RDF Graph\n",
    "pos = nx.spring_layout(G, scale=1)\n",
    "edge_labels = nx.get_edge_attributes(G, 'r')\n",
    "fig = plt.figure(20, figsize=(80, 80), dpi=10)\n",
    "nx.draw_networkx_edge_labels(G, pos, edge_labels=edge_labels)\n",
    "nx.draw_kamada_kawai(G, with_labels=True)\n",
    "\n",
    "#if not in interactive mode for \n",
    "plt.show()\n"
   ]
  },
  {
   "cell_type": "code",
   "execution_count": null,
   "id": "8368863b",
   "metadata": {},
   "outputs": [],
   "source": []
  },
  {
   "cell_type": "code",
   "execution_count": null,
   "id": "19b310df",
   "metadata": {},
   "outputs": [],
   "source": []
  }
 ],
 "metadata": {
  "kernelspec": {
   "display_name": "Python 3 (ipykernel)",
   "language": "python",
   "name": "python3"
  },
  "language_info": {
   "codemirror_mode": {
    "name": "ipython",
    "version": 3
   },
   "file_extension": ".py",
   "mimetype": "text/x-python",
   "name": "python",
   "nbconvert_exporter": "python",
   "pygments_lexer": "ipython3",
   "version": "3.9.7"
  }
 },
 "nbformat": 4,
 "nbformat_minor": 5
}
