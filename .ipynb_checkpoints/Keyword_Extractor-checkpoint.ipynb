{
 "cells": [
  {
   "cell_type": "code",
   "execution_count": 11,
   "id": "fb80531e",
   "metadata": {},
   "outputs": [],
   "source": [
    "from ipywidgets import IntProgress\n",
    "import requests\n",
    "from keybert import KeyBERT"
   ]
  },
  {
   "cell_type": "code",
   "execution_count": 23,
   "id": "aa57cf6b",
   "metadata": {},
   "outputs": [],
   "source": [
    "doc = \"\"\"\n",
    "       Considerable uncertainty surrounds the timeline of introductions and onsets of local \n",
    "       transmission of SARS-CoV-2 globally1–7. Although a limited number of SARS-CoV-2 introductions\n",
    "       were reported in January and February 20208,9, the narrowness of the initial testing criteria,\n",
    "       combined with a slow growth in testing capacity and porous travel screening10, left many countries \n",
    "       vulnerable to unmitigated, cryptic transmission. Here we use a global metapopulation epidemic model \n",
    "       to provide a mechanistic understanding of the early dispersal of infections, and the temporal windows \n",
    "       of the introduction and onset of SARS-CoV-2 local transmission in Europe and the United States.\n",
    "       We find that community transmission of SARS-CoV-2 was likely in several areas of Europe and\n",
    "       the United States by January 2020, and estimate that by early March, only 1 to 3 in 100 SARS-CoV-2 \n",
    "       infections were detected by surveillance systems. The modelling results highlight international\n",
    "       travel as the key driver of the introduction of SARS-CoV-2 with possible introductions and \n",
    "       transmission events as early as December 2019–January 2020. We find a heterogeneous, geographic \n",
    "       distribution of cumulative infection attack rates by 4 July 2020, ranging from 0.78%–15.2% \n",
    "       across US states and 0.19%–13.2% in European countries. Our approach complements phylogenetic \n",
    "       analyses and other surveillance approaches and provides insights that can be used to design innovative,\n",
    "       model-driven surveillance systems that guide enhanced testing and response strategies.\n",
    "      \"\"\"\n",
    "\n",
    "doc2 = \"\"\"\n",
    "        Urban nature—such as greenness and parks—can alleviate distress and provide space \n",
    "        for safe recreation during the COVID-19 pandemic. However, nature is often less available \n",
    "        in low-income populations and communities of colour—the same communities hardest hit by COVID-19.\n",
    "        In analyses of two datasets, we quantified inequity in greenness and park proximity across \n",
    "        all urbanized areas in the United States and linked greenness and park access to COVID-19 \n",
    "        case rates for ZIP codes in 17 states. Areas with majority persons of colour had both higher \n",
    "        case rates and less greenness. Furthermore, when controlling for sociodemographic variables,\n",
    "        an increase of 0.1 in the Normalized Difference Vegetation Index was associated with a 4.1% \n",
    "        decrease in COVID-19 incidence rates (95% confidence interval: 0.9–6.8%). Across the United States,\n",
    "        block groups with lower income and majority persons of colour are less green and have \n",
    "        fewer parks. Our results demonstrate that the communities most impacted by COVID-19 also have \n",
    "        the least nature nearby. Given that urban nature is associated with both human health and biodiversity,\n",
    "        these results have far-reaching implications both during and beyond the pandemic.\n",
    "        \"\"\"\n",
    "kw_model = KeyBERT()\n",
    "keywords = kw_model.extract_keywords(doc2)\n"
   ]
  },
  {
   "cell_type": "code",
   "execution_count": 24,
   "id": "a6cc2ce1",
   "metadata": {},
   "outputs": [
    {
     "name": "stdout",
     "output_type": "stream",
     "text": [
      "('covid', 0.3857) [('biodiversity', 0.4074), ('covid', 0.3857), ('greenness', 0.3667), ('nature', 0.3611), ('populations', 0.3542)]\n"
     ]
    }
   ],
   "source": [
    "keywordExtraction = kw_model.extract_keywords(doc2, keyphrase_ngram_range=(1, 1), stop_words=None)[1]\n",
    "manyKeywords = kw_model.extract_keywords(doc2, keyphrase_ngram_range=(1, 1), stop_words=None)\n",
    "print(keywordExtraction , manyKeywords )"
   ]
  },
  {
   "cell_type": "code",
   "execution_count": 26,
   "id": "d2f98ce1",
   "metadata": {},
   "outputs": [
    {
     "name": "stdout",
     "output_type": "stream",
     "text": [
      "covid\n"
     ]
    }
   ],
   "source": [
    "output , certain = keywordExtraction\n",
    "print(output)"
   ]
  },
  {
   "cell_type": "code",
   "execution_count": 27,
   "id": "9dd40442",
   "metadata": {},
   "outputs": [
    {
     "name": "stdout",
     "output_type": "stream",
     "text": [
      "respiratory syndrome and infectious disease in humans, caused by SARS coronavirus 2\n"
     ]
    }
   ],
   "source": [
    "\n",
    "API_ENDPOINT = \"https://www.wikidata.org/w/api.php\"\n",
    "\n",
    "query = output\n",
    "\n",
    "params = {\n",
    "    'action': 'wbsearchentities',\n",
    "    'format': 'json',\n",
    "    'language': 'en',\n",
    "    'search': query\n",
    "}\n",
    "\n",
    "r = requests.get(API_ENDPOINT, params = params)\n",
    "\n",
    "print(r.json()['search'][0]['description'])"
   ]
  },
  {
   "cell_type": "code",
   "execution_count": null,
   "id": "28227021",
   "metadata": {
    "scrolled": true
   },
   "outputs": [],
   "source": []
  },
  {
   "cell_type": "code",
   "execution_count": null,
   "id": "4a82e3b7",
   "metadata": {},
   "outputs": [],
   "source": []
  }
 ],
 "metadata": {
  "kernelspec": {
   "display_name": "Python 3 (ipykernel)",
   "language": "python",
   "name": "python3"
  },
  "language_info": {
   "codemirror_mode": {
    "name": "ipython",
    "version": 3
   },
   "file_extension": ".py",
   "mimetype": "text/x-python",
   "name": "python",
   "nbconvert_exporter": "python",
   "pygments_lexer": "ipython3",
   "version": "3.9.7"
  }
 },
 "nbformat": 4,
 "nbformat_minor": 5
}
