{
 "cells": [
  {
   "cell_type": "code",
   "execution_count": 1,
   "id": "fb80531e",
   "metadata": {},
   "outputs": [],
   "source": [
    "from ipywidgets import IntProgress\n",
    "import requests\n",
    "from keybert import KeyBERT\n",
    "from SPARQLWrapper import SPARQLWrapper, JSON"
   ]
  },
  {
   "cell_type": "code",
   "execution_count": null,
   "id": "2f5d7e10",
   "metadata": {},
   "outputs": [],
   "source": []
  },
  {
   "cell_type": "code",
   "execution_count": 122,
   "id": "aa57cf6b",
   "metadata": {},
   "outputs": [],
   "source": [
    "doc = [\"\"\"\n",
    "       Considerable uncertainty surrounds the timeline of introductions and onsets of local \n",
    "       transmission of SARS-CoV-2 globally1–7. Although a limited number of SARS-CoV-2 introductions\n",
    "       were reported in January and February 20208,9, the narrowness of the initial testing criteria,\n",
    "       combined with a slow growth in testing capacity and porous travel screening10, left many countries \n",
    "       vulnerable to unmitigated, cryptic transmission. Here we use a global metapopulation epidemic model \n",
    "       to provide a mechanistic understanding of the early dispersal of infections, and the temporal windows \n",
    "       of the introduction and onset of SARS-CoV-2 local transmission in Europe and the United States.\n",
    "       We find that community transmission of SARS-CoV-2 was likely in several areas of Europe and\n",
    "       the United States by January 2020, and estimate that by early March, only 1 to 3 in 100 SARS-CoV-2 \n",
    "       infections were detected by surveillance systems. The modelling results highlight international\n",
    "       travel as the key driver of the introduction of SARS-CoV-2 with possible introductions and \n",
    "       transmission events as early as December 2019–January 2020. We find a heterogeneous, geographic \n",
    "       distribution of cumulative infection attack rates by 4 July 2020, ranging from 0.78%–15.2% \n",
    "       across US states and 0.19%–13.2% in European countries. Our approach complements phylogenetic \n",
    "       analyses and other surveillance approaches and provides insights that can be used to design innovative,\n",
    "       model-driven surveillance systems that guide enhanced testing and response strategies.\n",
    "      \"\"\" , \n",
    "       \"\"\"\n",
    "        Urban nature—such as greenness and parks—can alleviate distress and provide space \n",
    "        for safe recreation during the COVID-19 pandemic. However, nature is often less available \n",
    "        in low-income populations and communities of colour—the same communities hardest hit by COVID-19.\n",
    "        In analyses of two datasets, we quantified inequity in greenness and park proximity across \n",
    "        all urbanized areas in the United States and linked greenness and park access to COVID-19 \n",
    "        case rates for ZIP codes in 17 states. Areas with majority persons of colour had both higher \n",
    "        case rates and less greenness. Furthermore, when controlling for sociodemographic variables,\n",
    "        an increase of 0.1 in the Normalized Difference Vegetation Index was associated with a 4.1% \n",
    "        decrease in COVID-19 incidence rates (95% confidence interval: 0.9–6.8%). Across the United States,\n",
    "        block groups with lower income and majority persons of colour are less green and have \n",
    "        fewer parks. Our results demonstrate that the communities most impacted by COVID-19 also have \n",
    "        the least nature nearby. Given that urban nature is associated with both human health and biodiversity,\n",
    "        these results have far-reaching implications both during and beyond the pandemic.\n",
    "        \"\"\" \n",
    "      ]\n",
    "kw_model = KeyBERT()\n",
    "keywords = []\n",
    "manyKeywords = []\n",
    "\n",
    "for i in doc:\n",
    "  keywords.append(kw_model.extract_keywords(i))\n",
    "  #print(i)\n",
    "  manyKeywords.append(kw_model.extract_keywords(i, keyphrase_ngram_range=(1, 1), stop_words=None))"
   ]
  },
  {
   "cell_type": "code",
   "execution_count": 107,
   "id": "a6cc2ce1",
   "metadata": {},
   "outputs": [
    {
     "name": "stdout",
     "output_type": "stream",
     "text": [
      "[[('epidemic', 0.4141), ('sars', 0.3531), ('dispersal', 0.3067), ('infections', 0.2875), ('metapopulation', 0.287)], [('biodiversity', 0.4074), ('covid', 0.3857), ('greenness', 0.3667), ('nature', 0.3611), ('populations', 0.3542)]]\n"
     ]
    }
   ],
   "source": [
    "print(manyKeywords)\n"
   ]
  },
  {
   "cell_type": "code",
   "execution_count": 108,
   "id": "0da87d1c",
   "metadata": {},
   "outputs": [
    {
     "name": "stdout",
     "output_type": "stream",
     "text": [
      "['epidemic', 'sars', 'dispersal', 'infections', 'metapopulation', 'biodiversity', 'covid', 'greenness', 'nature', 'populations']\n"
     ]
    }
   ],
   "source": [
    "keyWordArrayStorage = []\n",
    "\n",
    "for x in manyKeywords:\n",
    "    for y in x:\n",
    "      output , certain = y\n",
    "      keyWordArrayStorage.append(output)\n",
    "\n",
    "print(keyWordArrayStorage)"
   ]
  },
  {
   "cell_type": "code",
   "execution_count": 121,
   "id": "9dd40442",
   "metadata": {},
   "outputs": [
    {
     "name": "stdout",
     "output_type": "stream",
     "text": [
      "epidemic: \n",
      "rapid spread of infectious disease to a large number of people in a given population within a short period of time\n",
      "http://www.wikidata.org/entity/Q44512\n",
      " \n",
      "sars: \n",
      "viral respiratory disease\n",
      "http://www.wikidata.org/entity/Q103177\n",
      " \n",
      "dispersal: \n",
      "journal article; published in African Zoology in 2003\n",
      "http://www.wikidata.org/entity/Q57999854\n",
      " \n",
      "infections: \n",
      "invasion of and multiplication in a host by disease-causing pathogens or organisms, and the reaction of host tissues\n",
      "http://www.wikidata.org/entity/Q166231\n",
      " \n",
      "metapopulation: \n",
      "group of separated yet interacting ecological populations\n",
      "http://www.wikidata.org/entity/Q954495\n",
      " \n",
      "biodiversity: \n",
      "degree of variation of life forms\n",
      "http://www.wikidata.org/entity/Q47041\n",
      " \n",
      "covid: \n",
      "respiratory syndrome and infectious disease in humans, caused by SARS coronavirus 2\n",
      "http://www.wikidata.org/entity/Q84263196\n",
      " \n",
      "greenness: \n",
      "article\n",
      "http://www.wikidata.org/entity/Q57012978\n",
      " \n",
      "nature: \n",
      "scientific journal\n",
      "http://www.wikidata.org/entity/Q180445\n",
      " \n",
      "populations: \n"
     ]
    },
    {
     "ename": "KeyError",
     "evalue": "'description'",
     "output_type": "error",
     "traceback": [
      "\u001b[0;31m---------------------------------------------------------------------------\u001b[0m",
      "\u001b[0;31mKeyError\u001b[0m                                  Traceback (most recent call last)",
      "\u001b[0;32m/tmp/ipykernel_150195/3508087796.py\u001b[0m in \u001b[0;36m<module>\u001b[0;34m\u001b[0m\n\u001b[1;32m     10\u001b[0m     \u001b[0mr\u001b[0m \u001b[0;34m=\u001b[0m \u001b[0mrequests\u001b[0m\u001b[0;34m.\u001b[0m\u001b[0mget\u001b[0m\u001b[0;34m(\u001b[0m\u001b[0mAPI_ENDPOINT\u001b[0m\u001b[0;34m,\u001b[0m \u001b[0mparams\u001b[0m \u001b[0;34m=\u001b[0m \u001b[0mparams\u001b[0m\u001b[0;34m)\u001b[0m\u001b[0;34m\u001b[0m\u001b[0;34m\u001b[0m\u001b[0m\n\u001b[1;32m     11\u001b[0m     \u001b[0mprint\u001b[0m\u001b[0;34m(\u001b[0m\u001b[0mnew\u001b[0m \u001b[0;34m+\u001b[0m \u001b[0;34m': '\u001b[0m \u001b[0;34m)\u001b[0m\u001b[0;34m\u001b[0m\u001b[0;34m\u001b[0m\u001b[0m\n\u001b[0;32m---> 12\u001b[0;31m     \u001b[0mprint\u001b[0m\u001b[0;34m(\u001b[0m \u001b[0mr\u001b[0m\u001b[0;34m.\u001b[0m\u001b[0mjson\u001b[0m\u001b[0;34m(\u001b[0m\u001b[0;34m)\u001b[0m\u001b[0;34m[\u001b[0m\u001b[0;34m'search'\u001b[0m\u001b[0;34m]\u001b[0m\u001b[0;34m[\u001b[0m\u001b[0;36m0\u001b[0m\u001b[0;34m]\u001b[0m\u001b[0;34m[\u001b[0m\u001b[0;34m'description'\u001b[0m\u001b[0;34m]\u001b[0m\u001b[0;34m)\u001b[0m\u001b[0;34m\u001b[0m\u001b[0;34m\u001b[0m\u001b[0m\n\u001b[0m\u001b[1;32m     13\u001b[0m     \u001b[0mprint\u001b[0m\u001b[0;34m(\u001b[0m \u001b[0mr\u001b[0m\u001b[0;34m.\u001b[0m\u001b[0mjson\u001b[0m\u001b[0;34m(\u001b[0m\u001b[0;34m)\u001b[0m\u001b[0;34m[\u001b[0m\u001b[0;34m'search'\u001b[0m\u001b[0;34m]\u001b[0m\u001b[0;34m[\u001b[0m\u001b[0;36m0\u001b[0m\u001b[0;34m]\u001b[0m\u001b[0;34m[\u001b[0m\u001b[0;34m'concepturi'\u001b[0m\u001b[0;34m]\u001b[0m\u001b[0;34m)\u001b[0m\u001b[0;34m\u001b[0m\u001b[0;34m\u001b[0m\u001b[0m\n\u001b[1;32m     14\u001b[0m     \u001b[0mprint\u001b[0m\u001b[0;34m(\u001b[0m\u001b[0;34m' '\u001b[0m\u001b[0;34m)\u001b[0m\u001b[0;34m\u001b[0m\u001b[0;34m\u001b[0m\u001b[0m\n",
      "\u001b[0;31mKeyError\u001b[0m: 'description'"
     ]
    }
   ],
   "source": [
    "for new in keyWordArrayStorage:\n",
    "    API_ENDPOINT = \"https://www.wikidata.org/w/api.php\"\n",
    "    query = new\n",
    "    params = {\n",
    "        'action': 'wbsearchentities',\n",
    "        'format': 'json',\n",
    "        'language': 'en',\n",
    "        'search': query\n",
    "    }\n",
    "    r = requests.get(API_ENDPOINT, params = params)\n",
    "    print(new + ': ' )\n",
    "    print( r.json()['search'][0]['description'])\n",
    "    print( r.json()['search'][0]['concepturi']) \n",
    "    print(' ')"
   ]
  },
  {
   "cell_type": "code",
   "execution_count": 35,
   "id": "28227021",
   "metadata": {
    "scrolled": true
   },
   "outputs": [
    {
     "name": "stdout",
     "output_type": "stream",
     "text": [
      "Asturias\n",
      "أشتورية\n",
      "Astúries\n",
      "Asturie\n",
      "Αστούριες\n",
      "Asturien\n",
      "Asturio\n",
      "Asturiasko Printzerria\n",
      "Asturias\n",
      "Asturies\n",
      "Asturias\n",
      "Asturias\n",
      "Asturie\n",
      "アストゥリアス州\n",
      "아스투리아스주\n",
      "Asturië (regio)\n",
      "Asturia\n",
      "Астурия\n",
      "Astúrias\n",
      "Asturien\n",
      "Астурія\n",
      "阿斯图里亚斯\n",
      "---------------------------\n",
      "en: Asturias\n",
      "ar: أشتورية\n",
      "ca: Astúries\n",
      "cs: Asturie\n",
      "el: Αστούριες\n",
      "de: Asturien\n",
      "eo: Asturio\n",
      "eu: Asturiasko Printzerria\n",
      "es: Asturias\n",
      "fr: Asturies\n",
      "ga: Asturias\n",
      "in: Asturias\n",
      "it: Asturie\n",
      "ja: アストゥリアス州\n",
      "ko: 아스투리아스주\n",
      "nl: Asturië (regio)\n",
      "pl: Asturia\n",
      "ru: Астурия\n",
      "pt: Astúrias\n",
      "sv: Asturien\n",
      "uk: Астурія\n",
      "zh: 阿斯图里亚斯\n"
     ]
    }
   ],
   "source": [
    "sparql = SPARQLWrapper(\"http://dbpedia.org/sparql\")\n",
    "sparql.setQuery(\"\"\"\n",
    "    PREFIX rdfs: <http://www.w3.org/2000/01/rdf-schema#>\n",
    "    SELECT ?label\n",
    "    WHERE { <http://dbpedia.org/resource/Asturias> rdfs:label ?label }\n",
    "\"\"\")\n",
    "sparql.setReturnFormat(JSON)\n",
    "results = sparql.query().convert()\n",
    "\n",
    "for result in results[\"results\"][\"bindings\"]:\n",
    "    print(result[\"label\"][\"value\"])\n",
    "\n",
    "print('---------------------------')\n",
    "\n",
    "for result in results[\"results\"][\"bindings\"]:\n",
    "    print('%s: %s' % (result[\"label\"][\"xml:lang\"], result[\"label\"][\"value\"]))"
   ]
  },
  {
   "cell_type": "code",
   "execution_count": null,
   "id": "4a82e3b7",
   "metadata": {},
   "outputs": [],
   "source": []
  }
 ],
 "metadata": {
  "kernelspec": {
   "display_name": "Python 3 (ipykernel)",
   "language": "python",
   "name": "python3"
  },
  "language_info": {
   "codemirror_mode": {
    "name": "ipython",
    "version": 3
   },
   "file_extension": ".py",
   "mimetype": "text/x-python",
   "name": "python",
   "nbconvert_exporter": "python",
   "pygments_lexer": "ipython3",
   "version": "3.9.7"
  }
 },
 "nbformat": 4,
 "nbformat_minor": 5
}
