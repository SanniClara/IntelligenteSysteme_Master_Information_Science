{
 "cells": [
  {
   "cell_type": "code",
   "execution_count": 9,
   "id": "fb80531e",
   "metadata": {},
   "outputs": [],
   "source": [
    "from ipywidgets import IntProgress\n",
    "import requests\n",
    "from keybert import KeyBERT\n",
    "from SPARQLWrapper import SPARQLWrapper, JSON\n",
    "from rdflib import Graph "
   ]
  },
  {
   "cell_type": "code",
   "execution_count": null,
   "id": "2f5d7e10",
   "metadata": {},
   "outputs": [],
   "source": []
  },
  {
   "cell_type": "code",
   "execution_count": 10,
   "id": "aa57cf6b",
   "metadata": {},
   "outputs": [],
   "source": [
    "doc = [\n",
    "    \"\"\"\n",
    "       An interplay between Ca2+/calmodulin-dependent protein kinase IIδc (CaMKIIδc) and late\n",
    "       Na+ current (INaL) is known to induce arrhythmias in the failing heart. Here, we elucidate \n",
    "       the role of the sodium channel isoform NaV1.8 for CaMKIIδc-dependent proarrhythmia. \n",
    "       In a CRISPR-Cas9-generated human iPSC-cardiomyocyte homozygous knock-out of NaV1.8, \n",
    "       we demonstrate that NaV1.8 contributes to INaL formation. In addition, we reveal a direct \n",
    "       interaction between NaV1.8 and CaMKIIδc in cardiomyocytes isolated from patients with heart \n",
    "       failure (HF). Using specific blockers of NaV1.8 and CaMKIIδc, we show that NaV1.8-driven INaL\n",
    "       is CaMKIIδc-dependent and that NaV1.8-inhibtion reduces diastolic SR-Ca2+ leak in human failing\n",
    "       cardiomyocytes. Moreover, increased mortality of CaMKIIδc-overexpressing HF mice is reduced when \n",
    "       a NaV1.8 knock-out is introduced. Cellular and in vivo experiments reveal reduced ventricular\n",
    "       arrhythmias without changes in HF progression. Our work therefore identifies a proarrhythmic\n",
    "       CaMKIIδc downstream target which may constitute a prognostic and antiarrhythmic strategy.\n",
    "      \"\"\" , \n",
    "        \"\"\"\n",
    "         Patients with heart failure and preserved ejection fraction (HFpEF) have a high burden of symptoms and functional\n",
    "         limitations, and have a poor quality of life. By targeting cardiometabolic abmormalities, sodium glucose cotransporter\n",
    "         2 (SGLT2) inhibitors may improve these impairments. In this multicenter, randomized trial of patients with HFpEF (NCT03030235),\n",
    "         we evaluated whether the SGLT2 inhibitor dapagliflozin improves the primary endpoint of Kansas City Cardiomyopathy Questionnaire\n",
    "         Clinical Summary Score (KCCQ-CS), a measure of heart failure-related health status, at 12 weeks after treatment initiation. Secondary\n",
    "         endpoints included the 6-minute walk test (6MWT), KCCQ Overall Summary Score (KCCQ-OS), clinically meaningful changes in KCCQ-CS and -OS,\n",
    "         and changes in weight, natriuretic peptides, glycated hemoglobin and systolic blood pressure. In total, 324 patients were randomized to\n",
    "         dapagliflozin or placebo. Dapagliflozin improved KCCQ-CS (effect size, 5.8 points (95% confidence interval (CI) 2.3–9.2, P = 0.001),\n",
    "         meeting the predefined primary endpoint, due to improvements in both KCCQ total symptom score (KCCQ-TS) (5.8 points (95% CI 2.0–9.6, P = 0.003))\n",
    "         and physical limitations scores (5.3 points (95% CI 0.7–10.0, P = 0.026)). Dapagliflozin also improved 6MWT (mean effect size of 20.1 m (95% CI 5.6–34.7, P = 0.007)),\n",
    "         KCCQ-OS (4.5 points (95% CI 1.1–7.8, P = 0.009)), proportion of participants with 5-point or greater improvements in KCCQ-OS (odds ratio (OR)\n",
    "         = 1.73 (95% CI 1.05–2.85, P = 0.03)) and reduced weight (mean effect size, 0.72 kg (95% CI 0.01–1.42, P = 0.046)). There were no significant\n",
    "         differences in other secondary endpoints. Adverse events were similar between dapagliflozin and placebo (44 (27.2%) versus 38 (23.5%) patients,\n",
    "         respectively). These results indicate that 12 weeks of dapagliflozin treatment significantly improved \n",
    "         patient-reported symptoms, physical limitations and exercise function and was well tolerated in chronic HFpEF.\n",
    "        \"\"\" \n",
    "      ]\n",
    "kw_model = KeyBERT()\n",
    "keywords = []\n",
    "manyKeywords = []\n",
    "\n",
    "for i in doc:\n",
    "  keywords.append(kw_model.extract_keywords(i))\n",
    "  #print(i)\n",
    "  manyKeywords.append(kw_model.extract_keywords(i, keyphrase_ngram_range=(1, 1), stop_words=None))"
   ]
  },
  {
   "cell_type": "code",
   "execution_count": 11,
   "id": "a6cc2ce1",
   "metadata": {},
   "outputs": [
    {
     "name": "stdout",
     "output_type": "stream",
     "text": [
      "[[('cardiomyocytes', 0.4563), ('cardiomyocyte', 0.3897), ('proarrhythmic', 0.3615), ('kinase', 0.3502), ('antiarrhythmic', 0.3385)], [('cardiomyopathy', 0.4477), ('cardiometabolic', 0.3476), ('inhibitors', 0.2989), ('inhibitor', 0.2963), ('dapagliflozin', 0.2849)]]\n"
     ]
    }
   ],
   "source": [
    "print(manyKeywords)"
   ]
  },
  {
   "cell_type": "code",
   "execution_count": 12,
   "id": "0da87d1c",
   "metadata": {},
   "outputs": [
    {
     "name": "stdout",
     "output_type": "stream",
     "text": [
      "['cardiomyocytes', 'cardiomyocyte', 'proarrhythmic', 'kinase', 'antiarrhythmic', 'cardiomyopathy', 'cardiometabolic', 'inhibitors', 'inhibitor', 'dapagliflozin']\n"
     ]
    }
   ],
   "source": [
    "keyWordArrayStorage = []\n",
    "\n",
    "for x in manyKeywords:\n",
    "    for y in x:\n",
    "      output , certain = y\n",
    "      keyWordArrayStorage.append(output)\n",
    "\n",
    "print(keyWordArrayStorage)"
   ]
  },
  {
   "cell_type": "code",
   "execution_count": null,
   "id": "5f50e4de",
   "metadata": {},
   "outputs": [],
   "source": [
    "g = Graph()"
   ]
  },
  {
   "cell_type": "code",
   "execution_count": 13,
   "id": "9dd40442",
   "metadata": {
    "scrolled": true
   },
   "outputs": [
    {
     "name": "stdout",
     "output_type": "stream",
     "text": [
      "cardiomyocytes: \n",
      "scientific article\n",
      "http://www.wikidata.org/entity/Q61827238\n",
      " \n",
      "cardiomyocyte: \n",
      "muscle cells (myocytes) that make up the cardiac muscle\n",
      "http://www.wikidata.org/entity/Q1047227\n",
      " \n",
      "proarrhythmic: \n",
      "scientific article\n",
      "http://www.wikidata.org/entity/Q51228467\n",
      " \n",
      "kinase: \n",
      "class of enzymes that catalyze the transfer of phosphate groups from high-energy, phosphate-donating molecules to specific substrates\n",
      "http://www.wikidata.org/entity/Q421851\n",
      " \n",
      "antiarrhythmic: \n",
      "pharmaceutical used to suppress abnormal rhythms of the heart\n",
      "http://www.wikidata.org/entity/Q241549\n",
      " \n",
      "cardiomyopathy: \n",
      "heart disease and a myopathy that is characterised by deterioration of the function of the heart muscle\n",
      "http://www.wikidata.org/entity/Q847583\n",
      " \n",
      "cardiometabolic: \n",
      "disease diagnosed by a cluster of at least 3 out of the following conditions: abdominal obesity, high blood pressure, high blood sugar, high serum triglycerides, low serum high-density lipoprotein\n",
      "http://www.wikidata.org/entity/Q657193\n",
      " \n",
      "inhibitors: \n",
      "substance that decreases the rate of, or prevents, a chemical reaction\n",
      "http://www.wikidata.org/entity/Q163767\n",
      " \n",
      "inhibitor: \n",
      "substance that decreases the rate of, or prevents, a chemical reaction\n",
      "http://www.wikidata.org/entity/Q163767\n",
      " \n",
      "dapagliflozin: \n",
      "chemical compound\n",
      "http://www.wikidata.org/entity/Q409898\n",
      " \n"
     ]
    }
   ],
   "source": [
    "for new in keyWordArrayStorage:\n",
    "    API_ENDPOINT = \"https://www.wikidata.org/w/api.php\"\n",
    "    query = new\n",
    "    params = {\n",
    "        'action': 'wbsearchentities',\n",
    "        'format': 'json',\n",
    "        'language': 'en',\n",
    "        'search': query\n",
    "    }\n",
    "    r = requests.get(API_ENDPOINT, params = params)\n",
    "    print(new + ': ' )\n",
    "    print( r.json()['search'][0]['description'])\n",
    "    print( r.json()['search'][0]['concepturi']) \n",
    "    print(' ')"
   ]
  },
  {
   "cell_type": "code",
   "execution_count": 35,
   "id": "28227021",
   "metadata": {
    "scrolled": true
   },
   "outputs": [
    {
     "name": "stdout",
     "output_type": "stream",
     "text": [
      "Asturias\n",
      "أشتورية\n",
      "Astúries\n",
      "Asturie\n",
      "Αστούριες\n",
      "Asturien\n",
      "Asturio\n",
      "Asturiasko Printzerria\n",
      "Asturias\n",
      "Asturies\n",
      "Asturias\n",
      "Asturias\n",
      "Asturie\n",
      "アストゥリアス州\n",
      "아스투리아스주\n",
      "Asturië (regio)\n",
      "Asturia\n",
      "Астурия\n",
      "Astúrias\n",
      "Asturien\n",
      "Астурія\n",
      "阿斯图里亚斯\n",
      "---------------------------\n",
      "en: Asturias\n",
      "ar: أشتورية\n",
      "ca: Astúries\n",
      "cs: Asturie\n",
      "el: Αστούριες\n",
      "de: Asturien\n",
      "eo: Asturio\n",
      "eu: Asturiasko Printzerria\n",
      "es: Asturias\n",
      "fr: Asturies\n",
      "ga: Asturias\n",
      "in: Asturias\n",
      "it: Asturie\n",
      "ja: アストゥリアス州\n",
      "ko: 아스투리아스주\n",
      "nl: Asturië (regio)\n",
      "pl: Asturia\n",
      "ru: Астурия\n",
      "pt: Astúrias\n",
      "sv: Asturien\n",
      "uk: Астурія\n",
      "zh: 阿斯图里亚斯\n"
     ]
    }
   ],
   "source": [
    "sparql = SPARQLWrapper(\"http://dbpedia.org/sparql\")\n",
    "sparql.setQuery(\"\"\"\n",
    "    PREFIX rdfs: <http://www.w3.org/2000/01/rdf-schema#>\n",
    "    SELECT ?label\n",
    "    WHERE { <http://dbpedia.org/resource/Asturias> rdfs:label ?label }\n",
    "\"\"\")\n",
    "sparql.setReturnFormat(JSON)\n",
    "results = sparql.query().convert()\n",
    "\n",
    "for result in results[\"results\"][\"bindings\"]:\n",
    "    print(result[\"label\"][\"value\"])\n",
    "\n",
    "print('---------------------------')\n",
    "\n",
    "for result in results[\"results\"][\"bindings\"]:\n",
    "    print('%s: %s' % (result[\"label\"][\"xml:lang\"], result[\"label\"][\"value\"]))"
   ]
  },
  {
   "cell_type": "code",
   "execution_count": null,
   "id": "4a82e3b7",
   "metadata": {},
   "outputs": [],
   "source": []
  }
 ],
 "metadata": {
  "kernelspec": {
   "display_name": "Python 3 (ipykernel)",
   "language": "python",
   "name": "python3"
  },
  "language_info": {
   "codemirror_mode": {
    "name": "ipython",
    "version": 3
   },
   "file_extension": ".py",
   "mimetype": "text/x-python",
   "name": "python",
   "nbconvert_exporter": "python",
   "pygments_lexer": "ipython3",
   "version": "3.9.7"
  }
 },
 "nbformat": 4,
 "nbformat_minor": 5
}
